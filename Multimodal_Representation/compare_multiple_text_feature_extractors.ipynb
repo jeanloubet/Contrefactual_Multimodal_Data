{
  "nbformat": 4,
  "nbformat_minor": 0,
  "metadata": {
    "colab": {
      "name": "compare_multiple_text_feature_extractors.ipynb",
      "provenance": [],
      "collapsed_sections": []
    },
    "kernelspec": {
      "name": "python3",
      "display_name": "Python 3"
    },
    "language_info": {
      "name": "python"
    },
    "accelerator": "GPU"
  },
  "cells": [
    {
      "cell_type": "markdown",
      "source": [
        "This notebook is used to compare multiple techniques of text representation extractor in order to select the most performant"
      ],
      "metadata": {
        "id": "05jq0c5VAylv"
      }
    },
    {
      "cell_type": "code",
      "execution_count": null,
      "metadata": {
        "id": "2C09NX6ueXM6"
      },
      "outputs": [],
      "source": [
        "##import\n",
        "import pandas as pd\n",
        "import numpy as np\n",
        "import torch\n",
        "from sklearn.model_selection import train_test_split\n",
        "from collections import Counter\n",
        "import torch"
      ]
    },
    {
      "cell_type": "code",
      "source": [
        "from google.colab import drive\n",
        "\n",
        "drive.mount('/content/gdrive')"
      ],
      "metadata": {
        "colab": {
          "base_uri": "https://localhost:8080/"
        },
        "id": "7HU-iugSgL51",
        "outputId": "a97e2200-8e1c-4087-bb44-3120f085b44c"
      },
      "execution_count": null,
      "outputs": [
        {
          "output_type": "stream",
          "name": "stdout",
          "text": [
            "Mounted at /content/gdrive\n"
          ]
        }
      ]
    },
    {
      "cell_type": "code",
      "source": [
        "device = torch.device(\"cuda:0\" if torch.cuda.is_available() else \"cpu\")"
      ],
      "metadata": {
        "id": "KHEyNBJXhybG"
      },
      "execution_count": null,
      "outputs": []
    },
    {
      "cell_type": "code",
      "source": [
        "##params\n",
        "\n",
        "first_n_words = 200\n"
      ],
      "metadata": {
        "id": "I0Af0Oiiu2rZ"
      },
      "execution_count": null,
      "outputs": []
    },
    {
      "cell_type": "code",
      "source": [
        "def trim_string(x):\n",
        "    x = x.split(maxsplit=first_n_words)\n",
        "    x = ' '.join(x[:first_n_words])\n",
        "    return x"
      ],
      "metadata": {
        "id": "kca5vpQSu6-c"
      },
      "execution_count": null,
      "outputs": []
    },
    {
      "cell_type": "code",
      "source": [
        "## load text attributes and target\n",
        "\n",
        "path_to_target =\"/content/gdrive/MyDrive/CUB_200_2011/target_reduced.txt\"\n",
        "labels = np.loadtxt(path_to_target, dtype=int)\n",
        "labels = torch.tensor(labels, dtype=torch.float)\n",
        "\n",
        "data = pd.read_csv(\"/content/gdrive/MyDrive/CUB_200_2011/text_attributes_reduced.csv\")\n",
        "#try without this line also\n",
        "data = data['attributes'].values\n",
        "sentences = [ele.replace('_',' ') for ele in data]"
      ],
      "metadata": {
        "id": "TTWPf8ZGfDHN"
      },
      "execution_count": null,
      "outputs": []
    },
    {
      "cell_type": "code",
      "source": [
        "sentences[0]"
      ],
      "metadata": {
        "colab": {
          "base_uri": "https://localhost:8080/",
          "height": 71
        },
        "id": "meIYMNW_jwBU",
        "outputId": "30f06064-f92f-47dc-e623-d8d864fb5d8d"
      },
      "execution_count": null,
      "outputs": [
        {
          "output_type": "execute_result",
          "data": {
            "text/plain": [
              "'has bill shape hooked seabird has eye color brown has bill length longer than head has forehead color white has nape color buff has size large (16 - 32 in) has shape long-legged-like has primary color buff has bill color buff has throat color buff has head pattern masked has crown color buff'"
            ],
            "application/vnd.google.colaboratory.intrinsic+json": {
              "type": "string"
            }
          },
          "metadata": {},
          "execution_count": 8
        }
      ]
    },
    {
      "cell_type": "markdown",
      "source": [
        "Cleaning sentences"
      ],
      "metadata": {
        "id": "stqFwDP8s2EP"
      }
    },
    {
      "cell_type": "code",
      "source": [
        "import spacy\n",
        "spacy_nlp = spacy.load(\"en\")"
      ],
      "metadata": {
        "id": "pXxKb4uptDr6"
      },
      "execution_count": null,
      "outputs": []
    },
    {
      "cell_type": "code",
      "source": [
        "def raw_to_tokens(raw_string, spacy_nlp):\n",
        "    # Write code for lower-casing\n",
        "    string = raw_string.lower() \n",
        "        \n",
        "    # Write code to tokenize\n",
        "    spacy_tokens = spacy_nlp(string)\n",
        "        \n",
        "    # Write code to remove punctuation tokens and create string tokens\n",
        "    string_tokens = [token.orth_ for token in spacy_tokens if not token.is_punct if not token.is_stop] # TO DELETE\n",
        "    \n",
        "    # Write code to join the tokens back into a single string\n",
        "    clean_string = \" \".join(string_tokens) \n",
        "    \n",
        "    return clean_string"
      ],
      "metadata": {
        "id": "bQN6tVYws1tH"
      },
      "execution_count": null,
      "outputs": []
    },
    {
      "cell_type": "code",
      "source": [
        "sentences = [raw_to_tokens(x, spacy_nlp) for x in sentences]"
      ],
      "metadata": {
        "id": "tZFNsXOdtH0p"
      },
      "execution_count": null,
      "outputs": []
    },
    {
      "cell_type": "code",
      "source": [
        "sentences[0]"
      ],
      "metadata": {
        "colab": {
          "base_uri": "https://localhost:8080/",
          "height": 54
        },
        "id": "4xKEqoSOtxQa",
        "outputId": "746afe66-7cc4-4905-ae0f-18a48e629ee5"
      },
      "execution_count": null,
      "outputs": [
        {
          "output_type": "execute_result",
          "data": {
            "text/plain": [
              "'bill shape hooked seabird eye color brown bill length longer head forehead color white nape color buff size large 16 32 shape long legged like primary color buff bill color buff throat color buff head pattern masked crown color buff'"
            ],
            "application/vnd.google.colaboratory.intrinsic+json": {
              "type": "string"
            }
          },
          "metadata": {},
          "execution_count": 12
        }
      ]
    },
    {
      "cell_type": "code",
      "source": [
        "labels"
      ],
      "metadata": {
        "id": "gyDHXLxusz-F",
        "colab": {
          "base_uri": "https://localhost:8080/"
        },
        "outputId": "50129589-c035-4129-ca69-d2a17d78c7c1"
      },
      "execution_count": null,
      "outputs": [
        {
          "output_type": "execute_result",
          "data": {
            "text/plain": [
              "tensor([[1., 0., 0.,  ..., 0., 0., 0.],\n",
              "        [1., 0., 0.,  ..., 0., 0., 0.],\n",
              "        [1., 0., 0.,  ..., 0., 0., 0.],\n",
              "        ...,\n",
              "        [0., 0., 0.,  ..., 0., 0., 1.],\n",
              "        [0., 0., 0.,  ..., 0., 0., 1.],\n",
              "        [0., 0., 0.,  ..., 0., 0., 1.]])"
            ]
          },
          "metadata": {},
          "execution_count": 13
        }
      ]
    },
    {
      "cell_type": "code",
      "source": [
        "X_train, X_test, y_train, y_test = train_test_split(sentences, labels, test_size=0.33, random_state=42)"
      ],
      "metadata": {
        "id": "ehvgtQg3yZYi"
      },
      "execution_count": null,
      "outputs": []
    },
    {
      "cell_type": "code",
      "source": [
        "#classes are well balanced\n",
        "Counter([int(torch.argmax(x)) for x in y_train])"
      ],
      "metadata": {
        "colab": {
          "base_uri": "https://localhost:8080/"
        },
        "id": "M5TA74wtzwiU",
        "outputId": "ab7ed371-34e4-4513-f5d3-eab93ac029cb"
      },
      "execution_count": null,
      "outputs": [
        {
          "output_type": "execute_result",
          "data": {
            "text/plain": [
              "Counter({0: 38, 1: 37, 2: 41, 3: 41, 4: 28, 5: 29, 6: 36, 7: 35, 8: 40, 9: 38})"
            ]
          },
          "metadata": {},
          "execution_count": 15
        }
      ]
    },
    {
      "cell_type": "code",
      "source": [
        "Counter([int(torch.argmax(x)) for x in y_test])"
      ],
      "metadata": {
        "colab": {
          "base_uri": "https://localhost:8080/"
        },
        "id": "6ACo7l-ez0bw",
        "outputId": "5e373f06-975b-46ca-88a1-958e370f90c3"
      },
      "execution_count": null,
      "outputs": [
        {
          "output_type": "execute_result",
          "data": {
            "text/plain": [
              "Counter({0: 22, 1: 23, 2: 17, 3: 19, 4: 16, 5: 12, 6: 17, 7: 13, 8: 19, 9: 22})"
            ]
          },
          "metadata": {},
          "execution_count": 16
        }
      ]
    },
    {
      "cell_type": "markdown",
      "source": [
        "#Bag of word approach "
      ],
      "metadata": {
        "id": "WjNmbnDzyvre"
      }
    },
    {
      "cell_type": "code",
      "source": [
        "from sklearn.feature_extraction.text import CountVectorizer\n",
        "\n",
        "vocabulary = []\n",
        "ac = [vocabulary.extend(x.split(\" \")) for x in sentences]\n",
        "\n",
        "vectorizer = CountVectorizer() \n",
        "X_sample = vectorizer.fit_transform(sentences) \n"
      ],
      "metadata": {
        "id": "qq_nv0nByvQa"
      },
      "execution_count": null,
      "outputs": []
    },
    {
      "cell_type": "code",
      "source": [
        "# The matrix is to be converted to dense matrix to print it\n",
        "print(\"Count Matrix:\")\n",
        "print(X_sample.todense())\n",
        "print(\"\\nWords in vocabulary:\")\n",
        "print(vectorizer.get_feature_names())"
      ],
      "metadata": {
        "colab": {
          "base_uri": "https://localhost:8080/"
        },
        "id": "9dtzEAFz0obL",
        "outputId": "c8d2c669-a3e5-434e-b06d-7ba332ea1610"
      },
      "execution_count": null,
      "outputs": [
        {
          "output_type": "stream",
          "name": "stdout",
          "text": [
            "Count Matrix:\n",
            "[[1 1 0 ... 0 0 0]\n",
            " [0 0 0 ... 2 1 0]\n",
            " [0 1 1 ... 5 1 0]\n",
            " ...\n",
            " [0 0 0 ... 4 1 0]\n",
            " [0 0 0 ... 2 0 0]\n",
            " [0 0 0 ... 4 0 0]]\n",
            "\n",
            "Words in vocabulary:\n",
            "['16', '32', '72', 'belly', 'bill', 'black', 'blue', 'breast', 'broad', 'brown', 'buff', 'capped', 'chicken', 'clinging', 'color', 'colored', 'cone', 'crested', 'crown', 'curved', 'dagger', 'duck', 'eye', 'eyebrow', 'eyeline', 'eyering', 'fan', 'forehead', 'forked', 'green', 'grey', 'ground', 'gull', 'hawk', 'head', 'hooked', 'hummingbird', 'iridescent', 'large', 'leg', 'legged', 'length', 'like', 'long', 'longer', 'malar', 'marsh', 'masked', 'medium', 'multi', 'nape', 'needle', 'notched', 'olive', 'orange', 'pattern', 'perching', 'pigeon', 'pink', 'plain', 'pointed', 'primary', 'purple', 'purpose', 'red', 'rounded', 'rufous', 'sandpiper', 'seabird', 'shape', 'shaped', 'shorter', 'size', 'small', 'solid', 'spatulate', 'specialized', 'spotted', 'squared', 'striped', 'swallow', 'tail', 'tapered', 'throat', 'tree', 'underparts', 'unique', 'upland', 'upper', 'upperparts', 'upright', 'water', 'white', 'wing', 'wings', 'yellow']\n"
          ]
        },
        {
          "output_type": "stream",
          "name": "stderr",
          "text": [
            "/usr/local/lib/python3.7/dist-packages/sklearn/utils/deprecation.py:87: FutureWarning: Function get_feature_names is deprecated; get_feature_names is deprecated in 1.0 and will be removed in 1.2. Please use get_feature_names_out instead.\n",
            "  warnings.warn(msg, category=FutureWarning)\n"
          ]
        }
      ]
    },
    {
      "cell_type": "code",
      "source": [
        "X_sample = X_sample.todense().tolist()"
      ],
      "metadata": {
        "id": "OwRUWaqZ1GwK"
      },
      "execution_count": null,
      "outputs": []
    },
    {
      "cell_type": "code",
      "source": [
        "len(X_sample[0])"
      ],
      "metadata": {
        "colab": {
          "base_uri": "https://localhost:8080/"
        },
        "id": "fy9TjPHu3J_K",
        "outputId": "b93fe68a-3015-4a1b-806b-9a1d28390b5f"
      },
      "execution_count": null,
      "outputs": [
        {
          "output_type": "execute_result",
          "data": {
            "text/plain": [
              "96"
            ]
          },
          "metadata": {},
          "execution_count": 20
        }
      ]
    },
    {
      "cell_type": "code",
      "source": [
        "len(X_sample)"
      ],
      "metadata": {
        "colab": {
          "base_uri": "https://localhost:8080/"
        },
        "id": "yx5pD_TW3TqO",
        "outputId": "1b9b692a-c3dc-4229-f665-44b2bd7dc65b"
      },
      "execution_count": null,
      "outputs": [
        {
          "output_type": "execute_result",
          "data": {
            "text/plain": [
              "543"
            ]
          },
          "metadata": {},
          "execution_count": 21
        }
      ]
    },
    {
      "cell_type": "code",
      "source": [
        "y_bag =[int(np.argmax(x)) for x in labels]"
      ],
      "metadata": {
        "id": "7idIz3rd7t1B"
      },
      "execution_count": null,
      "outputs": []
    },
    {
      "cell_type": "code",
      "source": [
        "type(X_sample)"
      ],
      "metadata": {
        "colab": {
          "base_uri": "https://localhost:8080/"
        },
        "id": "WFgAhulqfVAm",
        "outputId": "84e617df-e16b-473f-e3ec-8db43d0f4df4"
      },
      "execution_count": null,
      "outputs": [
        {
          "output_type": "execute_result",
          "data": {
            "text/plain": [
              "list"
            ]
          },
          "metadata": {},
          "execution_count": 23
        }
      ]
    },
    {
      "cell_type": "code",
      "source": [
        "len(X_sample[0])"
      ],
      "metadata": {
        "colab": {
          "base_uri": "https://localhost:8080/"
        },
        "id": "F7BKXVrOfqCb",
        "outputId": "a3c176e2-2e59-47c5-a0a6-e8b25a11d678"
      },
      "execution_count": null,
      "outputs": [
        {
          "output_type": "execute_result",
          "data": {
            "text/plain": [
              "96"
            ]
          },
          "metadata": {},
          "execution_count": 26
        }
      ]
    },
    {
      "cell_type": "markdown",
      "source": [
        "## save features"
      ],
      "metadata": {
        "id": "Be7iuPCGgDb5"
      }
    },
    {
      "cell_type": "markdown",
      "source": [
        "We save the representation in order to re-use it for the coordinated representation"
      ],
      "metadata": {
        "id": "swbjUuPpCu2T"
      }
    },
    {
      "cell_type": "code",
      "source": [
        "data_to_save = pd.DataFrame(X_sample)#.values.tolist()"
      ],
      "metadata": {
        "id": "JDeDgY4tgGsT"
      },
      "execution_count": null,
      "outputs": []
    },
    {
      "cell_type": "code",
      "source": [
        "data_to_save.to_csv(\"/content/gdrive/MyDrive/Master Centrale/Projet/datasets/ft_bag_of_words.csv\")"
      ],
      "metadata": {
        "id": "Bdd3PSzzgbYZ"
      },
      "execution_count": null,
      "outputs": []
    },
    {
      "cell_type": "markdown",
      "source": [
        "## Build classifier"
      ],
      "metadata": {
        "id": "0dtpGeHWhJmB"
      }
    },
    {
      "cell_type": "markdown",
      "source": [
        "We then train a classifier in order to evaluate the representation"
      ],
      "metadata": {
        "id": "3eCJm4s1BSxQ"
      }
    },
    {
      "cell_type": "code",
      "source": [
        "X_train_bag, X_test_bag, y_train_bag, y_test_bag = train_test_split(X_sample, y_bag, test_size=0.33, random_state=42)"
      ],
      "metadata": {
        "id": "inY19lvN3Vme"
      },
      "execution_count": null,
      "outputs": []
    },
    {
      "cell_type": "code",
      "source": [
        "from sklearn.model_selection import GridSearchCV\n",
        "from sklearn.ensemble import RandomForestClassifier\n",
        "\n",
        "\n",
        "rfc=RandomForestClassifier(random_state=42)\n",
        "param_grid = { \n",
        "    'n_estimators': [200, 500],\n",
        "    'max_features': ['auto', 'sqrt', 'log2'],\n",
        "    'max_depth' : [4,5,6,7,8],\n",
        "    'criterion' :['gini', 'entropy']\n",
        "}\n",
        "\n",
        "CV_rfc = GridSearchCV(estimator=rfc, param_grid=param_grid, cv= 5)\n",
        "CV_rfc.fit(X_train_bag, y_train_bag)"
      ],
      "metadata": {
        "colab": {
          "base_uri": "https://localhost:8080/"
        },
        "id": "hWbk8sRA3tRq",
        "outputId": "2bb8ac90-d3f4-4b22-b4eb-d4e8d8bcf679"
      },
      "execution_count": null,
      "outputs": [
        {
          "output_type": "execute_result",
          "data": {
            "text/plain": [
              "GridSearchCV(cv=5, estimator=RandomForestClassifier(random_state=42),\n",
              "             param_grid={'criterion': ['gini', 'entropy'],\n",
              "                         'max_depth': [4, 5, 6, 7, 8],\n",
              "                         'max_features': ['auto', 'sqrt', 'log2'],\n",
              "                         'n_estimators': [200, 500]})"
            ]
          },
          "metadata": {},
          "execution_count": 23
        }
      ]
    },
    {
      "cell_type": "code",
      "source": [
        "model = CV_rfc.best_estimator_\n",
        "pred = model.predict(X_test_bag)"
      ],
      "metadata": {
        "id": "jsK_09hk4OSA"
      },
      "execution_count": null,
      "outputs": []
    },
    {
      "cell_type": "code",
      "source": [
        "from sklearn.metrics import accuracy_score\n",
        "print(\"Accuracy for Random Forest on test data: \",accuracy_score(y_test_bag,pred))"
      ],
      "metadata": {
        "colab": {
          "base_uri": "https://localhost:8080/"
        },
        "id": "Gr0_Rvcg4kEI",
        "outputId": "977bed80-5401-4907-be80-d8bd22783ddb"
      },
      "execution_count": null,
      "outputs": [
        {
          "output_type": "stream",
          "name": "stdout",
          "text": [
            "Accuracy for Random Forest on test data:  0.6888888888888889\n"
          ]
        }
      ]
    },
    {
      "cell_type": "code",
      "source": [
        ""
      ],
      "metadata": {
        "id": "b3R8A7bS6Toy"
      },
      "execution_count": null,
      "outputs": []
    },
    {
      "cell_type": "code",
      "source": [
        "from sklearn.pipeline import make_pipeline\n",
        "from sklearn.preprocessing import StandardScaler\n",
        "from sklearn.svm import SVC\n",
        "\n",
        "clf = make_pipeline(StandardScaler(), SVC(gamma='auto'))\n",
        "clf.fit(X_train_bag, y_train_bag)"
      ],
      "metadata": {
        "colab": {
          "base_uri": "https://localhost:8080/"
        },
        "id": "PnP3oJLG5uAn",
        "outputId": "4f435582-763d-4633-a519-13ad82273652"
      },
      "execution_count": null,
      "outputs": [
        {
          "output_type": "execute_result",
          "data": {
            "text/plain": [
              "Pipeline(steps=[('standardscaler', StandardScaler()),\n",
              "                ('svc', SVC(gamma='auto'))])"
            ]
          },
          "metadata": {},
          "execution_count": 26
        }
      ]
    },
    {
      "cell_type": "code",
      "source": [
        "preds = clf.predict(X_test_bag)\n",
        "print(\"Accuracy for SVC on test data: \",accuracy_score(y_test_bag,preds))"
      ],
      "metadata": {
        "colab": {
          "base_uri": "https://localhost:8080/"
        },
        "id": "EnFksOMV8Iu0",
        "outputId": "382f2fbe-5e55-4810-a470-a6861f7b5650"
      },
      "execution_count": null,
      "outputs": [
        {
          "output_type": "stream",
          "name": "stdout",
          "text": [
            "Accuracy for SVC on test data:  0.6277777777777778\n"
          ]
        }
      ]
    },
    {
      "cell_type": "code",
      "source": [
        "preds = clf.predict(X_train_bag)\n",
        "print(\"Accuracy for SVC on train data: \",accuracy_score(y_train_bag,preds))"
      ],
      "metadata": {
        "id": "nZRgcz3Q-wXl",
        "colab": {
          "base_uri": "https://localhost:8080/"
        },
        "outputId": "baf23b50-3439-46b8-ed8c-1e004f76d850"
      },
      "execution_count": null,
      "outputs": [
        {
          "output_type": "stream",
          "name": "stdout",
          "text": [
            "Accuracy for SVC on train data:  0.9118457300275482\n"
          ]
        }
      ]
    },
    {
      "cell_type": "markdown",
      "source": [
        "#Approche TF-IDF"
      ],
      "metadata": {
        "id": "VqOnOotbrXf5"
      }
    },
    {
      "cell_type": "code",
      "source": [
        "from sklearn.feature_extraction.text import TfidfTransformer, CountVectorizer\n",
        "from sklearn.pipeline import make_pipeline\n",
        "pipe = make_pipeline(CountVectorizer(), TfidfTransformer())\n",
        "pipe.fit(X_train)\n",
        "feat_train = pipe.transform(X_train)\n",
        "feat_train.shape"
      ],
      "metadata": {
        "colab": {
          "base_uri": "https://localhost:8080/"
        },
        "id": "SU6EoFThrZ2V",
        "outputId": "948c7a58-9734-4755-cacc-56dd718facac"
      },
      "execution_count": null,
      "outputs": [
        {
          "output_type": "execute_result",
          "data": {
            "text/plain": [
              "(363, 95)"
            ]
          },
          "metadata": {},
          "execution_count": 29
        }
      ]
    },
    {
      "cell_type": "code",
      "source": [
        "feat_train.min(), feat_train.max()"
      ],
      "metadata": {
        "colab": {
          "base_uri": "https://localhost:8080/"
        },
        "id": "YJzb7QswrdU6",
        "outputId": "d125c38f-7a61-4bcc-e2e3-76e0c8d43d46"
      },
      "execution_count": null,
      "outputs": [
        {
          "output_type": "execute_result",
          "data": {
            "text/plain": [
              "(0.0, 0.9276279691320316)"
            ]
          },
          "metadata": {},
          "execution_count": 30
        }
      ]
    },
    {
      "cell_type": "code",
      "source": [
        "feat_test = pipe.transform(X_test)\n",
        "feat_test.shape"
      ],
      "metadata": {
        "colab": {
          "base_uri": "https://localhost:8080/"
        },
        "id": "o49ozf-lsgBE",
        "outputId": "0e1451f7-f7dc-4cf5-b31d-1c1b50922437"
      },
      "execution_count": null,
      "outputs": [
        {
          "output_type": "execute_result",
          "data": {
            "text/plain": [
              "(180, 95)"
            ]
          },
          "metadata": {},
          "execution_count": 31
        }
      ]
    },
    {
      "cell_type": "code",
      "source": [
        "### adapt y format for simple models\n",
        "y_test_flatted = [int(np.argmax(x)) for x in y_test]\n",
        "y_train_flatted = [int(np.argmax(x)) for x in y_train]"
      ],
      "metadata": {
        "id": "4_Ur0gkGuDWV"
      },
      "execution_count": null,
      "outputs": []
    },
    {
      "cell_type": "code",
      "source": [
        "from sklearn.model_selection import GridSearchCV\n",
        "from sklearn.ensemble import RandomForestClassifier\n",
        "\n",
        "\n",
        "rfc=RandomForestClassifier(random_state=42)\n",
        "param_grid = { \n",
        "    'n_estimators': [200, 500],\n",
        "    'max_features': ['auto', 'sqrt', 'log2'],\n",
        "    'max_depth' : [4,5,6,7,8],\n",
        "    'criterion' :['gini', 'entropy']\n",
        "}\n",
        "\n",
        "CV_rfc = GridSearchCV(estimator=rfc, param_grid=param_grid, cv= 5)\n",
        "CV_rfc.fit(feat_train, y_train_flatted)"
      ],
      "metadata": {
        "colab": {
          "base_uri": "https://localhost:8080/"
        },
        "id": "toWfzS2j9Op7",
        "outputId": "80f22799-90e6-4fbe-ae45-eecff969ff96"
      },
      "execution_count": null,
      "outputs": [
        {
          "output_type": "execute_result",
          "data": {
            "text/plain": [
              "GridSearchCV(cv=5, estimator=RandomForestClassifier(random_state=42),\n",
              "             param_grid={'criterion': ['gini', 'entropy'],\n",
              "                         'max_depth': [4, 5, 6, 7, 8],\n",
              "                         'max_features': ['auto', 'sqrt', 'log2'],\n",
              "                         'n_estimators': [200, 500]})"
            ]
          },
          "metadata": {},
          "execution_count": 33
        }
      ]
    },
    {
      "cell_type": "code",
      "source": [
        "clf = CV_rfc.best_estimator_"
      ],
      "metadata": {
        "id": "-3OR0-BWsx-c"
      },
      "execution_count": null,
      "outputs": []
    },
    {
      "cell_type": "code",
      "source": [
        "clf.score(feat_test, y_test_flatted)"
      ],
      "metadata": {
        "colab": {
          "base_uri": "https://localhost:8080/"
        },
        "id": "4fURhx41tF7Z",
        "outputId": "81db8a39-33db-4f9e-ddeb-3a24cb2ce803"
      },
      "execution_count": null,
      "outputs": [
        {
          "output_type": "execute_result",
          "data": {
            "text/plain": [
              "0.6666666666666666"
            ]
          },
          "metadata": {},
          "execution_count": 35
        }
      ]
    },
    {
      "cell_type": "code",
      "source": [
        "clf.score(feat_train, y_train_flatted)"
      ],
      "metadata": {
        "colab": {
          "base_uri": "https://localhost:8080/"
        },
        "id": "0GQ5iMLftF4k",
        "outputId": "56513aad-1e8c-4cfe-d2e6-c693afcd39b1"
      },
      "execution_count": null,
      "outputs": [
        {
          "output_type": "execute_result",
          "data": {
            "text/plain": [
              "0.8622589531680441"
            ]
          },
          "metadata": {},
          "execution_count": 36
        }
      ]
    },
    {
      "cell_type": "code",
      "source": [
        "from sklearn.linear_model import LogisticRegression\n",
        "lr = LogisticRegression()\n",
        "lr.fit(feat_train, y_train_flatted)\n",
        "lr.score(feat_test, y_test_flatted)"
      ],
      "metadata": {
        "colab": {
          "base_uri": "https://localhost:8080/"
        },
        "id": "uRwJFapmtF2U",
        "outputId": "f66b2725-6673-4f14-c4cd-2413aa4d3c61"
      },
      "execution_count": null,
      "outputs": [
        {
          "output_type": "execute_result",
          "data": {
            "text/plain": [
              "0.6166666666666667"
            ]
          },
          "metadata": {},
          "execution_count": 37
        }
      ]
    },
    {
      "cell_type": "code",
      "source": [
        "lr.score(feat_test, y_test_flatted)"
      ],
      "metadata": {
        "colab": {
          "base_uri": "https://localhost:8080/"
        },
        "id": "vEbycY-ht40B",
        "outputId": "8e94367d-4956-4b00-8c2c-95f18290a48e"
      },
      "execution_count": null,
      "outputs": [
        {
          "output_type": "execute_result",
          "data": {
            "text/plain": [
              "0.6166666666666667"
            ]
          },
          "metadata": {},
          "execution_count": 38
        }
      ]
    },
    {
      "cell_type": "code",
      "source": [
        "lr.score(feat_train, y_train_flatted)"
      ],
      "metadata": {
        "colab": {
          "base_uri": "https://localhost:8080/"
        },
        "id": "eLMnlg8Ut4pp",
        "outputId": "506eae54-697a-4d80-8b95-5ae6b1f52522"
      },
      "execution_count": null,
      "outputs": [
        {
          "output_type": "execute_result",
          "data": {
            "text/plain": [
              "0.6308539944903582"
            ]
          },
          "metadata": {},
          "execution_count": 39
        }
      ]
    },
    {
      "cell_type": "markdown",
      "source": [
        "Plot classes"
      ],
      "metadata": {
        "id": "nw_6xTLbvSCe"
      }
    },
    {
      "cell_type": "code",
      "source": [
        "feat_train = pd.DataFrame(feat_train.toarray())"
      ],
      "metadata": {
        "id": "vAb62IbDvjBO"
      },
      "execution_count": null,
      "outputs": []
    },
    {
      "cell_type": "code",
      "source": [
        "from sklearn.decomposition import PCA\n",
        "pca = PCA(n_components=2)\n",
        "principalComponents = pca.fit_transform(feat_train)\n",
        "principalDf = pd.DataFrame(data = principalComponents\n",
        "             , columns = ['principal component 1', 'principal component 2'])"
      ],
      "metadata": {
        "id": "k9CCCms8vRPB"
      },
      "execution_count": null,
      "outputs": []
    },
    {
      "cell_type": "code",
      "source": [
        "import matplotlib.pyplot as plt\n",
        "\n",
        "fig = plt.figure(figsize = (8,8))\n",
        "ax = fig.add_subplot(1,1,1) \n",
        "ax.set_xlabel('Principal Component 1', fontsize = 15)\n",
        "ax.set_ylabel('Principal Component 2', fontsize = 15)\n",
        "ax.set_title('2 component PCA', fontsize = 20)\n",
        "targets = range(10)\n",
        "colors = ['r', 'g', 'b', 'c','m','y','k','w','black','teal']\n",
        "for target, color in zip(targets,colors):\n",
        "    indicesToKeep = pd.Series(y_train_flatted) == target\n",
        "    ax.scatter(principalDf.loc[indicesToKeep, 'principal component 1']\n",
        "               , principalDf.loc[indicesToKeep, 'principal component 2']\n",
        "               , c = color\n",
        "               , s = 50)\n",
        "ax.legend(targets)\n",
        "ax.grid()"
      ],
      "metadata": {
        "colab": {
          "base_uri": "https://localhost:8080/",
          "height": 523
        },
        "id": "tQEehb0zt8M2",
        "outputId": "3dea4dc5-ac3b-41d9-cc45-b370a6591c80"
      },
      "execution_count": null,
      "outputs": [
        {
          "output_type": "display_data",
          "data": {
            "image/png": "[encoded data removed]",
            "text/plain": [
              "<Figure size 576x576 with 1 Axes>"
            ]
          },
          "metadata": {
            "needs_background": "light"
          }
        }
      ]
    },
    {
      "cell_type": "markdown",
      "source": [
        "#Approche Word2Vect"
      ],
      "metadata": {
        "id": "U8Aioaya0PvT"
      }
    },
    {
      "cell_type": "markdown",
      "source": [
        "Load model and test it"
      ],
      "metadata": {
        "id": "0QRD3I11EAkS"
      }
    },
    {
      "cell_type": "code",
      "source": [
        "import gensim.downloader as api\n",
        "\n",
        "info = api.info()  # show info about available models/datasets\n",
        "model = api.load(\"glove-twitter-25\")  # download the model and return as object ready for use\n",
        "model.most_similar(\"cat\")"
      ],
      "metadata": {
        "colab": {
          "base_uri": "https://localhost:8080/"
        },
        "id": "bAX_cEMFCfAc",
        "outputId": "dab6d94a-03f8-423f-807a-85b68035eba1"
      },
      "execution_count": null,
      "outputs": [
        {
          "output_type": "stream",
          "name": "stdout",
          "text": [
            "[==================================================] 100.0% 104.8/104.8MB downloaded\n"
          ]
        },
        {
          "output_type": "execute_result",
          "data": {
            "text/plain": [
              "[('dog', 0.9590819478034973),\n",
              " ('monkey', 0.9203578233718872),\n",
              " ('bear', 0.9143137335777283),\n",
              " ('pet', 0.9108031392097473),\n",
              " ('girl', 0.8880630135536194),\n",
              " ('horse', 0.8872727155685425),\n",
              " ('kitty', 0.8870542049407959),\n",
              " ('puppy', 0.886769711971283),\n",
              " ('hot', 0.8865255117416382),\n",
              " ('lady', 0.8845518827438354)]"
            ]
          },
          "metadata": {},
          "execution_count": 43
        }
      ]
    },
    {
      "cell_type": "code",
      "source": [
        "def get_word_features(word):\n",
        "  try:\n",
        "    return model.get_vector(word)\n",
        "  except:\n",
        "    return  np.zeros(25)\n"
      ],
      "metadata": {
        "id": "vks6WwmQzw-4"
      },
      "execution_count": null,
      "outputs": []
    },
    {
      "cell_type": "code",
      "source": [
        "model.get_vector(\"car\")"
      ],
      "metadata": {
        "colab": {
          "base_uri": "https://localhost:8080/"
        },
        "id": "gKuotzUpDV1V",
        "outputId": "481ad725-7871-4b1d-9093-3a6adc307909"
      },
      "execution_count": null,
      "outputs": [
        {
          "output_type": "execute_result",
          "data": {
            "text/plain": [
              "25"
            ]
          },
          "metadata": {},
          "execution_count": 48
        }
      ]
    },
    {
      "cell_type": "code",
      "source": [
        "def encode_sentence(sentence):\n",
        "    \"\"\"\n",
        "    get representation of each word and sum it to make representation of a sentence\n",
        "    \"\"\"\n",
        "    ls_words = sentence.split(\" \") \n",
        "    encoded = np.array([get_word_features(word) for word in ls_words])\n",
        "    feature = encoded.sum(axis=0)\n",
        "    return feature\n",
        "    "
      ],
      "metadata": {
        "id": "Qu1tKPLiL7ku"
      },
      "execution_count": null,
      "outputs": []
    },
    {
      "cell_type": "code",
      "source": [
        ""
      ],
      "metadata": {
        "id": "1Bb-F3t-97im"
      },
      "execution_count": null,
      "outputs": []
    },
    {
      "cell_type": "code",
      "source": [
        "encoded_sentences = [encode_sentence(sentence)  for sentence in sentences]"
      ],
      "metadata": {
        "id": "B8J64oxyLig4"
      },
      "execution_count": null,
      "outputs": []
    },
    {
      "cell_type": "code",
      "source": [
        "len(encoded_sentences)"
      ],
      "metadata": {
        "colab": {
          "base_uri": "https://localhost:8080/"
        },
        "id": "Csxk5A1G1DHM",
        "outputId": "f658c15b-a713-4f88-9dec-b330c5d0a43a"
      },
      "execution_count": null,
      "outputs": [
        {
          "output_type": "execute_result",
          "data": {
            "text/plain": [
              "543"
            ]
          },
          "metadata": {},
          "execution_count": 85
        }
      ]
    },
    {
      "cell_type": "code",
      "source": [
        "len(encoded_sentences[0])"
      ],
      "metadata": {
        "colab": {
          "base_uri": "https://localhost:8080/"
        },
        "id": "xuCSpYsv1sl9",
        "outputId": "9ffd181a-6f2e-4971-e487-fb7bcc6ebc4a"
      },
      "execution_count": null,
      "outputs": [
        {
          "output_type": "execute_result",
          "data": {
            "text/plain": [
              "25"
            ]
          },
          "metadata": {},
          "execution_count": 87
        }
      ]
    },
    {
      "cell_type": "code",
      "source": [
        "X_train, X_test, y_train, y_test = train_test_split(encoded_sentences, y_bag, test_size=0.33, random_state=42)"
      ],
      "metadata": {
        "id": "sWF8J8rB3HE6"
      },
      "execution_count": null,
      "outputs": []
    },
    {
      "cell_type": "code",
      "source": [
        "rfc=RandomForestClassifier(random_state=42)\n",
        "param_grid = { \n",
        "    'n_estimators': [200, 500],\n",
        "    'max_features': ['auto', 'sqrt', 'log2'],\n",
        "    'max_depth' : [4,5,6,7,8],\n",
        "    'criterion' :['gini', 'entropy']\n",
        "}\n",
        "\n",
        "CV_rfc = GridSearchCV(estimator=rfc, param_grid=param_grid, cv= 5)\n",
        "CV_rfc.fit(X_train, y_train)"
      ],
      "metadata": {
        "colab": {
          "base_uri": "https://localhost:8080/"
        },
        "id": "W4WRIzBG3oOv",
        "outputId": "dd62869e-b44a-496d-8912-881e5c820c94"
      },
      "execution_count": null,
      "outputs": [
        {
          "output_type": "execute_result",
          "data": {
            "text/plain": [
              "GridSearchCV(cv=5, estimator=RandomForestClassifier(random_state=42),\n",
              "             param_grid={'criterion': ['gini', 'entropy'],\n",
              "                         'max_depth': [4, 5, 6, 7, 8],\n",
              "                         'max_features': ['auto', 'sqrt', 'log2'],\n",
              "                         'n_estimators': [200, 500]})"
            ]
          },
          "metadata": {},
          "execution_count": 94
        }
      ]
    },
    {
      "cell_type": "code",
      "source": [
        "clf = CV_rfc.best_estimator_"
      ],
      "metadata": {
        "id": "JEEBnKyq4BbB"
      },
      "execution_count": null,
      "outputs": []
    },
    {
      "cell_type": "code",
      "source": [
        "clf.score(X_test, y_test)"
      ],
      "metadata": {
        "colab": {
          "base_uri": "https://localhost:8080/"
        },
        "id": "SGBYZ8Ib4EYm",
        "outputId": "9b6b3147-e140-4cb0-c823-ad03353a045b"
      },
      "execution_count": null,
      "outputs": [
        {
          "output_type": "execute_result",
          "data": {
            "text/plain": [
              "0.4166666666666667"
            ]
          },
          "metadata": {},
          "execution_count": 96
        }
      ]
    },
    {
      "cell_type": "code",
      "source": [
        "clf.score(X_train, y_train)"
      ],
      "metadata": {
        "colab": {
          "base_uri": "https://localhost:8080/"
        },
        "id": "L98UBWAY4Idt",
        "outputId": "49305959-98fe-48c2-d9b6-ba1058c681da"
      },
      "execution_count": null,
      "outputs": [
        {
          "output_type": "execute_result",
          "data": {
            "text/plain": [
              "0.9972451790633609"
            ]
          },
          "metadata": {},
          "execution_count": 97
        }
      ]
    },
    {
      "cell_type": "code",
      "source": [
        "from sklearn.linear_model import LogisticRegression\n",
        "lr = LogisticRegression()\n",
        "lr.fit(X_train, y_train)\n"
      ],
      "metadata": {
        "colab": {
          "base_uri": "https://localhost:8080/"
        },
        "id": "uwD8Zj3o4K-6",
        "outputId": "b1ba0c7d-84d9-4a57-cff4-0d7e03c56889"
      },
      "execution_count": null,
      "outputs": [
        {
          "output_type": "stream",
          "name": "stderr",
          "text": [
            "/usr/local/lib/python3.7/dist-packages/sklearn/linear_model/_logistic.py:818: ConvergenceWarning: lbfgs failed to converge (status=1):\n",
            "STOP: TOTAL NO. of ITERATIONS REACHED LIMIT.\n",
            "\n",
            "Increase the number of iterations (max_iter) or scale the data as shown in:\n",
            "    https://scikit-learn.org/stable/modules/preprocessing.html\n",
            "Please also refer to the documentation for alternative solver options:\n",
            "    https://scikit-learn.org/stable/modules/linear_model.html#logistic-regression\n",
            "  extra_warning_msg=_LOGISTIC_SOLVER_CONVERGENCE_MSG,\n"
          ]
        },
        {
          "output_type": "execute_result",
          "data": {
            "text/plain": [
              "LogisticRegression()"
            ]
          },
          "metadata": {},
          "execution_count": 99
        }
      ]
    },
    {
      "cell_type": "code",
      "source": [
        "lr.score(X_train, y_train)"
      ],
      "metadata": {
        "colab": {
          "base_uri": "https://localhost:8080/"
        },
        "id": "Ez4myzaB9RPi",
        "outputId": "f1398496-e22a-4da6-f727-38afdbee7067"
      },
      "execution_count": null,
      "outputs": [
        {
          "output_type": "execute_result",
          "data": {
            "text/plain": [
              "0.5950413223140496"
            ]
          },
          "metadata": {},
          "execution_count": 100
        }
      ]
    },
    {
      "cell_type": "code",
      "source": [
        "lr.score(X_test, y_test)"
      ],
      "metadata": {
        "colab": {
          "base_uri": "https://localhost:8080/"
        },
        "id": "kuNndQ7b9T9C",
        "outputId": "89bcb13f-a492-44ec-aaec-cd5b2e494a7f"
      },
      "execution_count": null,
      "outputs": [
        {
          "output_type": "execute_result",
          "data": {
            "text/plain": [
              "0.55"
            ]
          },
          "metadata": {},
          "execution_count": 101
        }
      ]
    },
    {
      "cell_type": "markdown",
      "source": [
        "### Finally, the best extractor seems to be Bag of word with a performance of 0.69 on the test, this is then the method chosen to get text representation"
      ],
      "metadata": {
        "id": "hgf_nC1TBh_Z"
      }
    },
    {
      "cell_type": "code",
      "source": [
        ""
      ],
      "metadata": {
        "id": "1trknAcEBqNm"
      },
      "execution_count": null,
      "outputs": []
    }
  ]
}