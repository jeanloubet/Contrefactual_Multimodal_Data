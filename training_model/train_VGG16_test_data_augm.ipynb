{
  "nbformat": 4,
  "nbformat_minor": 0,
  "metadata": {
    "colab": {
      "name": "train_VGG16_test_data_augm.ipynb",
      "provenance": [],
      "collapsed_sections": []
    },
    "kernelspec": {
      "name": "python3",
      "display_name": "Python 3"
    },
    "language_info": {
      "name": "python"
    },
    "accelerator": "GPU"
  },
  "cells": [
    {
      "cell_type": "markdown",
      "source": [
        "# INSTALL DL2"
      ],
      "metadata": {
        "id": "saDuqfF9w-iP"
      }
    },
    {
      "cell_type": "code",
      "source": [
        "!pip install d2l"
      ],
      "metadata": {
        "colab": {
          "base_uri": "https://localhost:8080/",
          "height": 1000
        },
        "id": "cNXvM3Now7k5",
        "outputId": "7d747d72-9dfe-4846-b7f1-4730b244dcd8"
      },
      "execution_count": null,
      "outputs": [
        {
          "output_type": "stream",
          "name": "stdout",
          "text": [
            "Collecting d2l\n",
            "  Downloading d2l-0.17.5-py3-none-any.whl (82 kB)\n",
            "\u001b[?25l\r\u001b[K     |████                            | 10 kB 18.8 MB/s eta 0:00:01\r\u001b[K     |████████                        | 20 kB 10.3 MB/s eta 0:00:01\r\u001b[K     |████████████                    | 30 kB 8.9 MB/s eta 0:00:01\r\u001b[K     |████████████████                | 40 kB 8.1 MB/s eta 0:00:01\r\u001b[K     |███████████████████▉            | 51 kB 4.4 MB/s eta 0:00:01\r\u001b[K     |███████████████████████▉        | 61 kB 5.2 MB/s eta 0:00:01\r\u001b[K     |███████████████████████████▉    | 71 kB 5.4 MB/s eta 0:00:01\r\u001b[K     |███████████████████████████████▉| 81 kB 6.0 MB/s eta 0:00:01\r\u001b[K     |████████████████████████████████| 82 kB 587 kB/s \n",
            "\u001b[?25hRequirement already satisfied: jupyter==1.0.0 in /usr/local/lib/python3.7/dist-packages (from d2l) (1.0.0)\n",
            "Collecting matplotlib==3.5.1\n",
            "  Downloading matplotlib-3.5.1-cp37-cp37m-manylinux_2_5_x86_64.manylinux1_x86_64.whl (11.2 MB)\n",
            "\u001b[K     |████████████████████████████████| 11.2 MB 28.5 MB/s \n",
            "\u001b[?25hCollecting pandas==1.2.4\n",
            "  Downloading pandas-1.2.4-cp37-cp37m-manylinux1_x86_64.whl (9.9 MB)\n",
            "\u001b[K     |████████████████████████████████| 9.9 MB 25.3 MB/s \n",
            "\u001b[?25hCollecting requests==2.25.1\n",
            "  Downloading requests-2.25.1-py2.py3-none-any.whl (61 kB)\n",
            "\u001b[K     |████████████████████████████████| 61 kB 6.8 MB/s \n",
            "\u001b[?25hRequirement already satisfied: numpy==1.21.5 in /usr/local/lib/python3.7/dist-packages (from d2l) (1.21.5)\n",
            "Requirement already satisfied: ipykernel in /usr/local/lib/python3.7/dist-packages (from jupyter==1.0.0->d2l) (4.10.1)\n",
            "Requirement already satisfied: notebook in /usr/local/lib/python3.7/dist-packages (from jupyter==1.0.0->d2l) (5.3.1)\n",
            "Requirement already satisfied: ipywidgets in /usr/local/lib/python3.7/dist-packages (from jupyter==1.0.0->d2l) (7.7.0)\n",
            "Requirement already satisfied: qtconsole in /usr/local/lib/python3.7/dist-packages (from jupyter==1.0.0->d2l) (5.3.0)\n",
            "Requirement already satisfied: nbconvert in /usr/local/lib/python3.7/dist-packages (from jupyter==1.0.0->d2l) (5.6.1)\n",
            "Requirement already satisfied: jupyter-console in /usr/local/lib/python3.7/dist-packages (from jupyter==1.0.0->d2l) (5.2.0)\n",
            "Requirement already satisfied: kiwisolver>=1.0.1 in /usr/local/lib/python3.7/dist-packages (from matplotlib==3.5.1->d2l) (1.4.0)\n",
            "Collecting fonttools>=4.22.0\n",
            "  Downloading fonttools-4.32.0-py3-none-any.whl (900 kB)\n",
            "\u001b[K     |████████████████████████████████| 900 kB 35.7 MB/s \n",
            "\u001b[?25hRequirement already satisfied: pyparsing>=2.2.1 in /usr/local/lib/python3.7/dist-packages (from matplotlib==3.5.1->d2l) (3.0.7)\n",
            "Requirement already satisfied: packaging>=20.0 in /usr/local/lib/python3.7/dist-packages (from matplotlib==3.5.1->d2l) (21.3)\n",
            "Requirement already satisfied: python-dateutil>=2.7 in /usr/local/lib/python3.7/dist-packages (from matplotlib==3.5.1->d2l) (2.8.2)\n",
            "Requirement already satisfied: pillow>=6.2.0 in /usr/local/lib/python3.7/dist-packages (from matplotlib==3.5.1->d2l) (7.1.2)\n",
            "Requirement already satisfied: cycler>=0.10 in /usr/local/lib/python3.7/dist-packages (from matplotlib==3.5.1->d2l) (0.11.0)\n",
            "Requirement already satisfied: pytz>=2017.3 in /usr/local/lib/python3.7/dist-packages (from pandas==1.2.4->d2l) (2018.9)\n",
            "Requirement already satisfied: certifi>=2017.4.17 in /usr/local/lib/python3.7/dist-packages (from requests==2.25.1->d2l) (2021.10.8)\n",
            "Requirement already satisfied: idna<3,>=2.5 in /usr/local/lib/python3.7/dist-packages (from requests==2.25.1->d2l) (2.10)\n",
            "Requirement already satisfied: urllib3<1.27,>=1.21.1 in /usr/local/lib/python3.7/dist-packages (from requests==2.25.1->d2l) (1.24.3)\n",
            "Requirement already satisfied: chardet<5,>=3.0.2 in /usr/local/lib/python3.7/dist-packages (from requests==2.25.1->d2l) (3.0.4)\n",
            "Requirement already satisfied: typing-extensions in /usr/local/lib/python3.7/dist-packages (from kiwisolver>=1.0.1->matplotlib==3.5.1->d2l) (3.10.0.2)\n",
            "Requirement already satisfied: six>=1.5 in /usr/local/lib/python3.7/dist-packages (from python-dateutil>=2.7->matplotlib==3.5.1->d2l) (1.15.0)\n",
            "Requirement already satisfied: jupyter-client in /usr/local/lib/python3.7/dist-packages (from ipykernel->jupyter==1.0.0->d2l) (5.3.5)\n",
            "Requirement already satisfied: traitlets>=4.1.0 in /usr/local/lib/python3.7/dist-packages (from ipykernel->jupyter==1.0.0->d2l) (5.1.1)\n",
            "Requirement already satisfied: tornado>=4.0 in /usr/local/lib/python3.7/dist-packages (from ipykernel->jupyter==1.0.0->d2l) (5.1.1)\n",
            "Requirement already satisfied: ipython>=4.0.0 in /usr/local/lib/python3.7/dist-packages (from ipykernel->jupyter==1.0.0->d2l) (5.5.0)\n",
            "Requirement already satisfied: prompt-toolkit<2.0.0,>=1.0.4 in /usr/local/lib/python3.7/dist-packages (from ipython>=4.0.0->ipykernel->jupyter==1.0.0->d2l) (1.0.18)\n",
            "Requirement already satisfied: setuptools>=18.5 in /usr/local/lib/python3.7/dist-packages (from ipython>=4.0.0->ipykernel->jupyter==1.0.0->d2l) (57.4.0)\n",
            "Requirement already satisfied: pickleshare in /usr/local/lib/python3.7/dist-packages (from ipython>=4.0.0->ipykernel->jupyter==1.0.0->d2l) (0.7.5)\n",
            "Requirement already satisfied: pygments in /usr/local/lib/python3.7/dist-packages (from ipython>=4.0.0->ipykernel->jupyter==1.0.0->d2l) (2.6.1)\n",
            "Requirement already satisfied: pexpect in /usr/local/lib/python3.7/dist-packages (from ipython>=4.0.0->ipykernel->jupyter==1.0.0->d2l) (4.8.0)\n",
            "Requirement already satisfied: decorator in /usr/local/lib/python3.7/dist-packages (from ipython>=4.0.0->ipykernel->jupyter==1.0.0->d2l) (4.4.2)\n",
            "Requirement already satisfied: simplegeneric>0.8 in /usr/local/lib/python3.7/dist-packages (from ipython>=4.0.0->ipykernel->jupyter==1.0.0->d2l) (0.8.1)\n",
            "Requirement already satisfied: wcwidth in /usr/local/lib/python3.7/dist-packages (from prompt-toolkit<2.0.0,>=1.0.4->ipython>=4.0.0->ipykernel->jupyter==1.0.0->d2l) (0.2.5)\n",
            "Requirement already satisfied: widgetsnbextension~=3.6.0 in /usr/local/lib/python3.7/dist-packages (from ipywidgets->jupyter==1.0.0->d2l) (3.6.0)\n",
            "Requirement already satisfied: nbformat>=4.2.0 in /usr/local/lib/python3.7/dist-packages (from ipywidgets->jupyter==1.0.0->d2l) (5.2.0)\n",
            "Requirement already satisfied: ipython-genutils~=0.2.0 in /usr/local/lib/python3.7/dist-packages (from ipywidgets->jupyter==1.0.0->d2l) (0.2.0)\n",
            "Requirement already satisfied: jupyterlab-widgets>=1.0.0 in /usr/local/lib/python3.7/dist-packages (from ipywidgets->jupyter==1.0.0->d2l) (1.1.0)\n",
            "Requirement already satisfied: jupyter-core in /usr/local/lib/python3.7/dist-packages (from nbformat>=4.2.0->ipywidgets->jupyter==1.0.0->d2l) (4.9.2)\n",
            "Requirement already satisfied: jsonschema!=2.5.0,>=2.4 in /usr/local/lib/python3.7/dist-packages (from nbformat>=4.2.0->ipywidgets->jupyter==1.0.0->d2l) (4.3.3)\n",
            "Requirement already satisfied: importlib-metadata in /usr/local/lib/python3.7/dist-packages (from jsonschema!=2.5.0,>=2.4->nbformat>=4.2.0->ipywidgets->jupyter==1.0.0->d2l) (4.11.3)\n",
            "Requirement already satisfied: importlib-resources>=1.4.0 in /usr/local/lib/python3.7/dist-packages (from jsonschema!=2.5.0,>=2.4->nbformat>=4.2.0->ipywidgets->jupyter==1.0.0->d2l) (5.4.0)\n",
            "Requirement already satisfied: pyrsistent!=0.17.0,!=0.17.1,!=0.17.2,>=0.14.0 in /usr/local/lib/python3.7/dist-packages (from jsonschema!=2.5.0,>=2.4->nbformat>=4.2.0->ipywidgets->jupyter==1.0.0->d2l) (0.18.1)\n",
            "Requirement already satisfied: attrs>=17.4.0 in /usr/local/lib/python3.7/dist-packages (from jsonschema!=2.5.0,>=2.4->nbformat>=4.2.0->ipywidgets->jupyter==1.0.0->d2l) (21.4.0)\n",
            "Requirement already satisfied: zipp>=3.1.0 in /usr/local/lib/python3.7/dist-packages (from importlib-resources>=1.4.0->jsonschema!=2.5.0,>=2.4->nbformat>=4.2.0->ipywidgets->jupyter==1.0.0->d2l) (3.7.0)\n",
            "Requirement already satisfied: terminado>=0.8.1 in /usr/local/lib/python3.7/dist-packages (from notebook->jupyter==1.0.0->d2l) (0.13.3)\n",
            "Requirement already satisfied: jinja2 in /usr/local/lib/python3.7/dist-packages (from notebook->jupyter==1.0.0->d2l) (2.11.3)\n",
            "Requirement already satisfied: Send2Trash in /usr/local/lib/python3.7/dist-packages (from notebook->jupyter==1.0.0->d2l) (1.8.0)\n",
            "Requirement already satisfied: pyzmq>=13 in /usr/local/lib/python3.7/dist-packages (from jupyter-client->ipykernel->jupyter==1.0.0->d2l) (22.3.0)\n",
            "Requirement already satisfied: ptyprocess in /usr/local/lib/python3.7/dist-packages (from terminado>=0.8.1->notebook->jupyter==1.0.0->d2l) (0.7.0)\n",
            "Requirement already satisfied: MarkupSafe>=0.23 in /usr/local/lib/python3.7/dist-packages (from jinja2->notebook->jupyter==1.0.0->d2l) (2.0.1)\n",
            "Requirement already satisfied: entrypoints>=0.2.2 in /usr/local/lib/python3.7/dist-packages (from nbconvert->jupyter==1.0.0->d2l) (0.4)\n",
            "Requirement already satisfied: testpath in /usr/local/lib/python3.7/dist-packages (from nbconvert->jupyter==1.0.0->d2l) (0.6.0)\n",
            "Requirement already satisfied: pandocfilters>=1.4.1 in /usr/local/lib/python3.7/dist-packages (from nbconvert->jupyter==1.0.0->d2l) (1.5.0)\n",
            "Requirement already satisfied: mistune<2,>=0.8.1 in /usr/local/lib/python3.7/dist-packages (from nbconvert->jupyter==1.0.0->d2l) (0.8.4)\n",
            "Requirement already satisfied: bleach in /usr/local/lib/python3.7/dist-packages (from nbconvert->jupyter==1.0.0->d2l) (4.1.0)\n",
            "Requirement already satisfied: defusedxml in /usr/local/lib/python3.7/dist-packages (from nbconvert->jupyter==1.0.0->d2l) (0.7.1)\n",
            "Requirement already satisfied: webencodings in /usr/local/lib/python3.7/dist-packages (from bleach->nbconvert->jupyter==1.0.0->d2l) (0.5.1)\n",
            "Requirement already satisfied: qtpy>=2.0.1 in /usr/local/lib/python3.7/dist-packages (from qtconsole->jupyter==1.0.0->d2l) (2.0.1)\n",
            "Installing collected packages: fonttools, requests, pandas, matplotlib, d2l\n",
            "  Attempting uninstall: requests\n",
            "    Found existing installation: requests 2.23.0\n",
            "    Uninstalling requests-2.23.0:\n",
            "      Successfully uninstalled requests-2.23.0\n",
            "  Attempting uninstall: pandas\n",
            "    Found existing installation: pandas 1.3.5\n",
            "    Uninstalling pandas-1.3.5:\n",
            "      Successfully uninstalled pandas-1.3.5\n",
            "  Attempting uninstall: matplotlib\n",
            "    Found existing installation: matplotlib 3.2.2\n",
            "    Uninstalling matplotlib-3.2.2:\n",
            "      Successfully uninstalled matplotlib-3.2.2\n",
            "\u001b[31mERROR: pip's dependency resolver does not currently take into account all the packages that are installed. This behaviour is the source of the following dependency conflicts.\n",
            "google-colab 1.0.0 requires requests~=2.23.0, but you have requests 2.25.1 which is incompatible.\n",
            "datascience 0.10.6 requires folium==0.2.1, but you have folium 0.8.3 which is incompatible.\n",
            "albumentations 0.1.12 requires imgaug<0.2.7,>=0.2.5, but you have imgaug 0.2.9 which is incompatible.\u001b[0m\n",
            "Successfully installed d2l-0.17.5 fonttools-4.32.0 matplotlib-3.5.1 pandas-1.2.4 requests-2.25.1\n"
          ]
        },
        {
          "output_type": "display_data",
          "data": {
            "application/vnd.colab-display-data+json": {
              "pip_warning": {
                "packages": [
                  "matplotlib",
                  "mpl_toolkits"
                ]
              }
            }
          },
          "metadata": {}
        }
      ]
    },
    {
      "cell_type": "code",
      "source": [
        "!pip install matplotlib==3.0.2"
      ],
      "metadata": {
        "colab": {
          "base_uri": "https://localhost:8080/",
          "height": 500
        },
        "id": "HYBzt-dzs6Ma",
        "outputId": "8c867d91-1b93-493b-fb45-75ddbf936005"
      },
      "execution_count": null,
      "outputs": [
        {
          "output_type": "stream",
          "name": "stdout",
          "text": [
            "Collecting matplotlib==3.0.2\n",
            "  Downloading matplotlib-3.0.2-cp37-cp37m-manylinux1_x86_64.whl (12.9 MB)\n",
            "\u001b[K     |████████████████████████████████| 12.9 MB 51 kB/s \n",
            "\u001b[?25hRequirement already satisfied: numpy>=1.10.0 in /usr/local/lib/python3.7/dist-packages (from matplotlib==3.0.2) (1.21.5)\n",
            "Requirement already satisfied: pyparsing!=2.0.4,!=2.1.2,!=2.1.6,>=2.0.1 in /usr/local/lib/python3.7/dist-packages (from matplotlib==3.0.2) (3.0.7)\n",
            "Requirement already satisfied: cycler>=0.10 in /usr/local/lib/python3.7/dist-packages (from matplotlib==3.0.2) (0.11.0)\n",
            "Requirement already satisfied: python-dateutil>=2.1 in /usr/local/lib/python3.7/dist-packages (from matplotlib==3.0.2) (2.8.2)\n",
            "Requirement already satisfied: kiwisolver>=1.0.1 in /usr/local/lib/python3.7/dist-packages (from matplotlib==3.0.2) (1.4.0)\n",
            "Requirement already satisfied: typing-extensions in /usr/local/lib/python3.7/dist-packages (from kiwisolver>=1.0.1->matplotlib==3.0.2) (3.10.0.2)\n",
            "Requirement already satisfied: six>=1.5 in /usr/local/lib/python3.7/dist-packages (from python-dateutil>=2.1->matplotlib==3.0.2) (1.15.0)\n",
            "Installing collected packages: matplotlib\n",
            "  Attempting uninstall: matplotlib\n",
            "    Found existing installation: matplotlib 3.5.1\n",
            "    Uninstalling matplotlib-3.5.1:\n",
            "      Successfully uninstalled matplotlib-3.5.1\n",
            "\u001b[31mERROR: pip's dependency resolver does not currently take into account all the packages that are installed. This behaviour is the source of the following dependency conflicts.\n",
            "plotnine 0.6.0 requires matplotlib>=3.1.1, but you have matplotlib 3.0.2 which is incompatible.\n",
            "mizani 0.6.0 requires matplotlib>=3.1.1, but you have matplotlib 3.0.2 which is incompatible.\n",
            "d2l 0.17.5 requires matplotlib==3.5.1, but you have matplotlib 3.0.2 which is incompatible.\n",
            "albumentations 0.1.12 requires imgaug<0.2.7,>=0.2.5, but you have imgaug 0.2.9 which is incompatible.\u001b[0m\n",
            "Successfully installed matplotlib-3.0.2\n"
          ]
        },
        {
          "output_type": "display_data",
          "data": {
            "application/vnd.colab-display-data+json": {
              "pip_warning": {
                "packages": [
                  "matplotlib",
                  "mpl_toolkits"
                ]
              }
            }
          },
          "metadata": {}
        }
      ]
    },
    {
      "cell_type": "code",
      "source": [
        "import numpy as np"
      ],
      "metadata": {
        "id": "eNqkS3_Uj_AL"
      },
      "execution_count": null,
      "outputs": []
    },
    {
      "cell_type": "markdown",
      "source": [
        "# Try load VGG16"
      ],
      "metadata": {
        "id": "WASSBaaoFjI2"
      }
    },
    {
      "cell_type": "markdown",
      "source": [
        "# LOAD DATA BIRD 224 by 224"
      ],
      "metadata": {
        "id": "fi2bRG-SJsQF"
      }
    },
    {
      "cell_type": "markdown",
      "source": [
        "### packages"
      ],
      "metadata": {
        "id": "Olnv61qrMIgW"
      }
    },
    {
      "cell_type": "code",
      "source": [
        "import numpy as np\n",
        "import os\n",
        "import torchvision.transforms as T\n",
        "from torch.utils.data import DataLoader, Dataset\n",
        "from torch.utils.data import RandomSampler\n",
        "import cv2\n",
        "from matplotlib import pyplot as plt\n",
        "from torchvision.utils import make_grid\n",
        "import torchvision.models as models\n",
        "import torch\n",
        "from torch import nn\n",
        "import time\n",
        "\n",
        "import torch.nn.functional as F"
      ],
      "metadata": {
        "id": "WzMiX1e0MMrG"
      },
      "execution_count": null,
      "outputs": []
    },
    {
      "cell_type": "markdown",
      "source": [
        "### CODE"
      ],
      "metadata": {
        "id": "rQsPYpbrMKcl"
      }
    },
    {
      "cell_type": "code",
      "source": [
        "TEST_PATH = '/content/drive/MyDrive/CS Work/projet CS/dataset/final_test_no_bg/'\n",
        "TRAIN_PATH = '/content/drive/MyDrive/CS Work/projet CS/dataset/data_augm_train_final_no_bg/'"
      ],
      "metadata": {
        "id": "cUSFNxB1CPql"
      },
      "execution_count": null,
      "outputs": []
    },
    {
      "cell_type": "code",
      "source": [
        "\n",
        "\n",
        "classes = os.listdir(TEST_PATH)\n",
        "classes.remove('.DS_Store')\n",
        "print(\"Total Classes: \",len(classes))\n",
        "\n",
        "train_count = 0\n",
        "test_count = 0\n",
        "for _class in classes:\n",
        "    train_count += len(os.listdir(TRAIN_PATH + _class))\n",
        "    test_count += len(os.listdir(TEST_PATH + _class))\n",
        "\n",
        "print(\"Total train images: \",train_count)\n",
        "print(\"Total test images: \",test_count)\n"
      ],
      "metadata": {
        "colab": {
          "base_uri": "https://localhost:8080/"
        },
        "id": "jaryt_e_C85T",
        "outputId": "8020d747-16cf-475d-e82b-3f3e7efb3b42"
      },
      "execution_count": null,
      "outputs": [
        {
          "output_type": "stream",
          "name": "stdout",
          "text": [
            "Total Classes:  10\n",
            "Total train images:  2614\n",
            "Total test images:  109\n"
          ]
        }
      ]
    },
    {
      "cell_type": "code",
      "source": [
        "# get paths (with. name of each image)\n",
        "train_imgs = []\n",
        "test_imgs = []\n",
        "\n",
        "for _class in classes:\n",
        "    \n",
        "    for img in os.listdir(TRAIN_PATH + _class):\n",
        "        if img != '.DS_Store':\n",
        "          train_imgs.append(TRAIN_PATH + _class + \"/\" + img)\n",
        "        \n",
        "    for img in os.listdir(TEST_PATH + _class):\n",
        "      if img != '.DS_Store':\n",
        "        test_imgs.append(TEST_PATH + _class + \"/\" + img)\n",
        "\n",
        "class_to_int = {classes[i] : i for i in range(len(classes))}"
      ],
      "metadata": {
        "id": "Gk3rSWGMKJBs"
      },
      "execution_count": null,
      "outputs": []
    },
    {
      "cell_type": "code",
      "source": [
        "### Loading Classification Dataset - FOR METHOD 2: For multi-class data, by inheriting Dataset class\n",
        "\n",
        "def get_transform():\n",
        "    return T.Compose([T.ToTensor()])\n",
        "\n",
        "class BirdDataset(Dataset):\n",
        "    \n",
        "    def __init__(self, imgs_list, class_to_int, transforms = None):\n",
        "        \n",
        "        super().__init__()\n",
        "        self.imgs_list = imgs_list\n",
        "        self.class_to_int = class_to_int\n",
        "        self.transforms = transforms\n",
        "        \n",
        "        \n",
        "    def __getitem__(self, index):\n",
        "        transform = T.Resize(size = (224,224))\n",
        "        image_path = self.imgs_list[index]\n",
        "        \n",
        "        #Reading image\n",
        "        image = cv2.imread(image_path, cv2.IMREAD_COLOR)\n",
        "\n",
        "        image = cv2.cvtColor(image, cv2.COLOR_BGR2RGB).astype(np.float32)\n",
        "        image /= 255.0\n",
        "\n",
        "        \n",
        "        #Retriving class label\n",
        "        label = image_path.split(\"/\")[-2]\n",
        "        #print(\"label : \" + str(label))\n",
        "        label = self.class_to_int[label]\n",
        "        \n",
        "        #Applying transforms on image\n",
        "        if self.transforms:\n",
        "            image = self.transforms(image)\n",
        "        \n",
        "        image = transform(image)\n",
        "        return image, label\n",
        "        \n",
        "        \n",
        "        \n",
        "    def __len__(self):\n",
        "        return len(self.imgs_list)"
      ],
      "metadata": {
        "id": "7GT3-pK_LJU_"
      },
      "execution_count": null,
      "outputs": []
    },
    {
      "cell_type": "code",
      "source": [
        "# Method 2: Using Dataset Class\n",
        "train_dataset = BirdDataset(train_imgs, class_to_int, get_transform())\n",
        "test_dataset = BirdDataset(test_imgs, class_to_int, get_transform())\n",
        "\n",
        "#Data Loader  -  using Sampler (YT Video)\n",
        "train_random_sampler = RandomSampler(train_dataset)\n",
        "test_random_sampler = RandomSampler(test_dataset)"
      ],
      "metadata": {
        "id": "qg70Kn3xLKXy"
      },
      "execution_count": null,
      "outputs": []
    },
    {
      "cell_type": "code",
      "source": [
        "import warnings\n",
        "warnings.filterwarnings('ignore')\n",
        "import numpy as np\n",
        "import skimage.io as io\n",
        "from skimage.transform import rotate, AffineTransform, warp\n",
        "from skimage.util import random_noise\n",
        "from skimage.filters import gaussian\n",
        "import matplotlib.pyplot as plt\n",
        "% matplotlib inline"
      ],
      "metadata": {
        "id": "kZuyPIqtojlV"
      },
      "execution_count": null,
      "outputs": []
    },
    {
      "cell_type": "code",
      "source": [
        "## HYPER PARAM ##\n",
        "\n",
        "\n",
        "# best val for the accuracy\n",
        "best_val_acc = 0\n",
        "#init perf decrease\n",
        "counter_perf_decrease = 0\n",
        "# nb perf decrease to stop training\n",
        "nb_perf_decrease_stop = 2\n",
        "# drop out rates\n",
        "dr_rate = 0.5"
      ],
      "metadata": {
        "id": "Exgh3IZmSBnm"
      },
      "execution_count": null,
      "outputs": []
    },
    {
      "cell_type": "code",
      "source": [
        "#Shuffle Argument is mutually exclusive with Sampler!\n",
        "train_data_loader = DataLoader(\n",
        "    dataset = train_dataset,\n",
        "    batch_size = 32,\n",
        "    sampler = train_random_sampler,\n",
        "    num_workers = 4,\n",
        ")\n",
        "\n",
        "test_data_loader = DataLoader(\n",
        "    dataset = test_dataset,\n",
        "    batch_size = 32,\n",
        "    sampler = test_random_sampler,\n",
        "    num_workers = 4,\n",
        ")\n"
      ],
      "metadata": {
        "id": "PtdeVZSUMBdU"
      },
      "execution_count": null,
      "outputs": []
    },
    {
      "cell_type": "code",
      "source": [
        "# Visualize one training batch\n",
        "for images, labels in train_data_loader:\n",
        "    fig, ax = plt.subplots(figsize = (10, 10))\n",
        "    ax.set_xticks([])\n",
        "    ax.set_yticks([])\n",
        "    ax.imshow(make_grid(images, 4).permute(1,2,0))\n",
        "    break"
      ],
      "metadata": {
        "colab": {
          "base_uri": "https://localhost:8080/",
          "height": 578
        },
        "id": "tjSihWFwMmuT",
        "outputId": "8917aa0b-1319-4c14-d43d-4a9441413331"
      },
      "execution_count": null,
      "outputs": [
        {
          "output_type": "display_data",
          "data": {
            "text/plain": [
              "<Figure size 720x720 with 1 Axes>"
            ],
            "image/png": "[encoded data removed]"
          },
          "metadata": {}
        }
      ]
    },
    {
      "cell_type": "code",
      "source": [
        "### Define model\n",
        "model = models.vgg16(pretrained = True)\n",
        "\n",
        "### Modifying last few layers and no of classes\n",
        "# NOTE: cross_entropy loss takes unnormalized op (logits), then function itself applies softmax and calculates loss, so no need to include softmax here\n",
        "model.classifier = nn.Sequential(\n",
        "    nn.Flatten(),\n",
        "    nn.Linear(25088, 2048, bias = True),\n",
        "    nn.ReLU(inplace = True),\n",
        "    nn.Dropout(dr_rate),\n",
        "    nn.Linear(2048, 524, bias = True),\n",
        "    nn.ReLU(inplace = True),\n",
        "    nn.Dropout(dr_rate),\n",
        "    nn.Linear(524, len(classes))\n",
        ")\n"
      ],
      "metadata": {
        "id": "FH8k9fVJNtnZ"
      },
      "execution_count": null,
      "outputs": []
    },
    {
      "cell_type": "code",
      "source": [
        "dr_rate"
      ],
      "metadata": {
        "id": "Z5JxqigztnLS",
        "outputId": "50cf9456-1b69-4a49-8024-9cac6aa0d22c",
        "colab": {
          "base_uri": "https://localhost:8080/"
        }
      },
      "execution_count": null,
      "outputs": [
        {
          "output_type": "execute_result",
          "data": {
            "text/plain": [
              "0.5"
            ]
          },
          "metadata": {},
          "execution_count": 11
        }
      ]
    },
    {
      "cell_type": "code",
      "source": [
        "model"
      ],
      "metadata": {
        "colab": {
          "base_uri": "https://localhost:8080/"
        },
        "id": "8f3URbxAsxKf",
        "outputId": "125abf24-ce35-4ae1-9301-e21f747cb205"
      },
      "execution_count": null,
      "outputs": [
        {
          "output_type": "execute_result",
          "data": {
            "text/plain": [
              "VGG(\n",
              "  (features): Sequential(\n",
              "    (0): Conv2d(3, 64, kernel_size=(3, 3), stride=(1, 1), padding=(1, 1))\n",
              "    (1): ReLU(inplace=True)\n",
              "    (2): Conv2d(64, 64, kernel_size=(3, 3), stride=(1, 1), padding=(1, 1))\n",
              "    (3): ReLU(inplace=True)\n",
              "    (4): MaxPool2d(kernel_size=2, stride=2, padding=0, dilation=1, ceil_mode=False)\n",
              "    (5): Conv2d(64, 128, kernel_size=(3, 3), stride=(1, 1), padding=(1, 1))\n",
              "    (6): ReLU(inplace=True)\n",
              "    (7): Conv2d(128, 128, kernel_size=(3, 3), stride=(1, 1), padding=(1, 1))\n",
              "    (8): ReLU(inplace=True)\n",
              "    (9): MaxPool2d(kernel_size=2, stride=2, padding=0, dilation=1, ceil_mode=False)\n",
              "    (10): Conv2d(128, 256, kernel_size=(3, 3), stride=(1, 1), padding=(1, 1))\n",
              "    (11): ReLU(inplace=True)\n",
              "    (12): Conv2d(256, 256, kernel_size=(3, 3), stride=(1, 1), padding=(1, 1))\n",
              "    (13): ReLU(inplace=True)\n",
              "    (14): Conv2d(256, 256, kernel_size=(3, 3), stride=(1, 1), padding=(1, 1))\n",
              "    (15): ReLU(inplace=True)\n",
              "    (16): MaxPool2d(kernel_size=2, stride=2, padding=0, dilation=1, ceil_mode=False)\n",
              "    (17): Conv2d(256, 512, kernel_size=(3, 3), stride=(1, 1), padding=(1, 1))\n",
              "    (18): ReLU(inplace=True)\n",
              "    (19): Conv2d(512, 512, kernel_size=(3, 3), stride=(1, 1), padding=(1, 1))\n",
              "    (20): ReLU(inplace=True)\n",
              "    (21): Conv2d(512, 512, kernel_size=(3, 3), stride=(1, 1), padding=(1, 1))\n",
              "    (22): ReLU(inplace=True)\n",
              "    (23): MaxPool2d(kernel_size=2, stride=2, padding=0, dilation=1, ceil_mode=False)\n",
              "    (24): Conv2d(512, 512, kernel_size=(3, 3), stride=(1, 1), padding=(1, 1))\n",
              "    (25): ReLU(inplace=True)\n",
              "    (26): Conv2d(512, 512, kernel_size=(3, 3), stride=(1, 1), padding=(1, 1))\n",
              "    (27): ReLU(inplace=True)\n",
              "    (28): Conv2d(512, 512, kernel_size=(3, 3), stride=(1, 1), padding=(1, 1))\n",
              "    (29): ReLU(inplace=True)\n",
              "    (30): MaxPool2d(kernel_size=2, stride=2, padding=0, dilation=1, ceil_mode=False)\n",
              "  )\n",
              "  (avgpool): AdaptiveAvgPool2d(output_size=(7, 7))\n",
              "  (classifier): Sequential(\n",
              "    (0): Flatten(start_dim=1, end_dim=-1)\n",
              "    (1): Linear(in_features=25088, out_features=2048, bias=True)\n",
              "    (2): ReLU(inplace=True)\n",
              "    (3): Dropout(p=0.5, inplace=False)\n",
              "    (4): Linear(in_features=2048, out_features=524, bias=True)\n",
              "    (5): ReLU(inplace=True)\n",
              "    (6): Dropout(p=0.5, inplace=False)\n",
              "    (7): Linear(in_features=524, out_features=10, bias=True)\n",
              "  )\n",
              ")"
            ]
          },
          "metadata": {},
          "execution_count": 10
        }
      ]
    },
    {
      "cell_type": "code",
      "source": [
        "# only updated params of classifier\n",
        "for param in model.parameters():\n",
        "    param.requires_grad = False\n",
        "for param in model.classifier.parameters():\n",
        "  param.requires_grad = True"
      ],
      "metadata": {
        "id": "eO5lhSV4F6OO"
      },
      "execution_count": null,
      "outputs": []
    },
    {
      "cell_type": "code",
      "source": [
        "### Get device\n",
        "\n",
        "device = torch.device('cuda') if torch.cuda.is_available() else torch.device('cpu')\n",
        "torch.cuda.empty_cache()\n",
        "\n",
        "model.to(device)\n",
        "\n",
        "### Training Details\n",
        "\n",
        "optimizer = torch.optim.Adam(model.parameters(), lr = 0.00001)\n",
        "lr_scheduler = torch.optim.lr_scheduler.StepLR(optimizer, step_size = 5, gamma = 0.75)\n",
        "criterion = nn.CrossEntropyLoss()\n",
        "\n",
        "train_loss = []\n",
        "train_accuracy = []\n",
        "\n",
        "val_loss = []\n",
        "val_accuracy = []\n",
        "\n",
        "epochs = 20"
      ],
      "metadata": {
        "id": "zRwqb0nv7m3v"
      },
      "execution_count": null,
      "outputs": []
    },
    {
      "cell_type": "code",
      "source": [
        "def calc_accuracy(true,pred):\n",
        "    pred = F.softmax(pred, dim = 1)\n",
        "    true = torch.zeros(pred.shape[0], pred.shape[1]).scatter_(1, true.unsqueeze(1), 1.)\n",
        "    acc = (true.argmax(-1) == pred.argmax(-1)).float().detach().numpy()\n",
        "    acc = float((100 * acc.sum()) / len(acc))\n",
        "    return round(acc, 4)"
      ],
      "metadata": {
        "id": "cGsfW3pE7q-t"
      },
      "execution_count": null,
      "outputs": []
    },
    {
      "cell_type": "code",
      "source": [
        "### Training Code\n",
        "\n",
        "\n",
        "\n",
        "for epoch in range(epochs):\n",
        "    \n",
        "    start = time.time()\n",
        "    \n",
        "    #Epoch Loss & Accuracy\n",
        "    train_epoch_loss = []\n",
        "    train_epoch_accuracy = []\n",
        "    _iter = 1\n",
        "    \n",
        "    #Val Loss & Accuracy\n",
        "    val_epoch_loss = []\n",
        "    val_epoch_accuracy = []\n",
        "    \n",
        "    # Training\n",
        "    for images, labels in train_data_loader:\n",
        "        \n",
        "        # train of model\n",
        "        model.train()\n",
        "        \n",
        "        images = images.to(device)\n",
        "        labels = labels.to(device)\n",
        "        \n",
        "        #Reset Grads\n",
        "        optimizer.zero_grad()\n",
        "        \n",
        "        #Forward ->\n",
        "        preds = model(images)\n",
        "        \n",
        "        #Calculate Accuracy\n",
        "        acc = calc_accuracy(labels.cpu(), preds.cpu())\n",
        "        \n",
        "        #Calculate Loss & Backward, Update Weights (Step)\n",
        "        loss = criterion(preds, labels)\n",
        "        loss.backward()\n",
        "        optimizer.step()\n",
        "        \n",
        "        #Append loss & acc\n",
        "        loss_value = loss.item()\n",
        "        train_epoch_loss.append(loss_value)\n",
        "        train_epoch_accuracy.append(acc)\n",
        "        \n",
        "        if _iter % 500 == 0:\n",
        "            print(\"> Iteration {} < \".format(_iter))\n",
        "            print(\"Iter Loss = {}\".format(round(loss_value, 4)))\n",
        "            print(\"Iter Accuracy = {} % \\n\".format(acc))\n",
        "        \n",
        "        _iter += 1\n",
        "    \n",
        "    #Validation\n",
        "    for images, labels in test_data_loader:\n",
        "        # eval\n",
        "        model.eval()\n",
        "        \n",
        "        images = images.to(device)\n",
        "        labels = labels.to(device)\n",
        "        \n",
        "        #Forward ->\n",
        "        preds = model(images)\n",
        "        \n",
        "        #Calculate Accuracy\n",
        "        acc = calc_accuracy(labels.cpu(), preds.cpu())\n",
        "        \n",
        "        #Calculate Loss\n",
        "        loss = criterion(preds, labels)\n",
        "        \n",
        "        #Append loss & acc\n",
        "        loss_value = loss.item()\n",
        "        val_epoch_loss.append(loss_value)\n",
        "        val_epoch_accuracy.append(acc)\n",
        "    \n",
        "    \n",
        "    train_epoch_loss = np.mean(train_epoch_loss)\n",
        "    train_epoch_accuracy = np.mean(train_epoch_accuracy)\n",
        "    \n",
        "    val_epoch_loss = np.mean(val_epoch_loss)\n",
        "    val_epoch_accuracy = np.mean(val_epoch_accuracy)\n",
        "    \n",
        "    end = time.time()\n",
        "    \n",
        "    train_loss.append(train_epoch_loss)\n",
        "    train_accuracy.append(train_epoch_accuracy)\n",
        "    \n",
        "    val_loss.append(val_epoch_loss)\n",
        "    val_accuracy.append(val_epoch_accuracy)\n",
        "\n",
        "    if val_epoch_accuracy > best_val_acc :\n",
        "      print(\"save model for epoch : \" + str(epoch))\n",
        "      best_val_acc = val_epoch_accuracy\n",
        "      torch.save(model, \"/content/drive/MyDrive/CS Work/projet CS/dataset/VGG16_nobg.pt\")\n",
        "\n",
        "      # re init perf decrease\n",
        "      counter_perf_decrease = 0 \n",
        "    else :\n",
        "      counter_perf_decrease += 1\n",
        "\n",
        "    # stop training if perf decreasing\n",
        "    if counter_perf_decrease == nb_perf_decrease_stop:\n",
        "      print(\"Stop training because of perf decrease\")\n",
        "\n",
        "\n",
        "    \n",
        "    #Print Epoch Statistics\n",
        "    print(\"** Epoch {} ** - Epoch Time {}\".format(epoch, int(end-start)))\n",
        "    print(\"Train Loss = {}\".format(round(train_epoch_loss, 4)))\n",
        "    print(\"Train Accuracy = {} % \\n\".format(train_epoch_accuracy))\n",
        "    print(\"Val Loss = {}\".format(round(val_epoch_loss, 4)))\n",
        "    print(\"Val Accuracy = {} % \\n\".format(val_epoch_accuracy))\n",
        "    \n",
        "    "
      ],
      "metadata": {
        "colab": {
          "base_uri": "https://localhost:8080/"
        },
        "id": "sssjQCLd7uxV",
        "outputId": "475bcaee-494a-434e-b9cf-18f4e14b82bc"
      },
      "execution_count": null,
      "outputs": [
        {
          "output_type": "stream",
          "name": "stdout",
          "text": [
            "save model for epoch : 0\n",
            "** Epoch 0 ** - Epoch Time 130\n",
            "Train Loss = 2.2345\n",
            "Train Accuracy = 22.243393902439024 % \n",
            "\n",
            "Val Loss = 2.1348\n",
            "Val Accuracy = 29.5673 % \n",
            "\n",
            "save model for epoch : 1\n",
            "** Epoch 1 ** - Epoch Time 37\n",
            "Train Loss = 1.9789\n",
            "Train Accuracy = 38.59247926829268 % \n",
            "\n",
            "Val Loss = 1.8205\n",
            "Val Accuracy = 40.8053 % \n",
            "\n",
            "save model for epoch : 2\n",
            "** Epoch 2 ** - Epoch Time 37\n",
            "Train Loss = 1.6534\n",
            "Train Accuracy = 51.72764268292683 % \n",
            "\n",
            "Val Loss = 1.6144\n",
            "Val Accuracy = 50.60095 % \n",
            "\n",
            "save model for epoch : 3\n",
            "** Epoch 3 ** - Epoch Time 37\n",
            "Train Loss = 1.3764\n",
            "Train Accuracy = 60.37855731707317 % \n",
            "\n",
            "Val Loss = 1.395\n",
            "Val Accuracy = 54.8678 % \n",
            "\n",
            "save model for epoch : 4\n",
            "** Epoch 4 ** - Epoch Time 37\n",
            "Train Loss = 1.1592\n",
            "Train Accuracy = 68.6483743902439 % \n",
            "\n",
            "Val Loss = 1.2571\n",
            "Val Accuracy = 65.324525 % \n",
            "\n",
            "** Epoch 5 ** - Epoch Time 37\n",
            "Train Loss = 0.9912\n",
            "Train Accuracy = 73.66615853658537 % \n",
            "\n",
            "Val Loss = 1.1751\n",
            "Val Accuracy = 60.33655 % \n",
            "\n",
            "Stop training because of perf decrease\n",
            "** Epoch 6 ** - Epoch Time 37\n",
            "Train Loss = 0.8481\n",
            "Train Accuracy = 78.13770365853658 % \n",
            "\n",
            "Val Loss = 1.0839\n",
            "Val Accuracy = 63.822125 % \n",
            "\n",
            "** Epoch 7 ** - Epoch Time 37\n",
            "Train Loss = 0.7412\n",
            "Train Accuracy = 81.59298780487805 % \n",
            "\n",
            "Val Loss = 1.0482\n",
            "Val Accuracy = 62.6803 % \n",
            "\n",
            "save model for epoch : 8\n",
            "** Epoch 8 ** - Epoch Time 36\n",
            "Train Loss = 0.645\n",
            "Train Accuracy = 84.64176829268293 % \n",
            "\n",
            "Val Loss = 0.9475\n",
            "Val Accuracy = 68.8101 % \n",
            "\n",
            "save model for epoch : 9\n",
            "** Epoch 9 ** - Epoch Time 37\n",
            "Train Loss = 0.5641\n",
            "Train Accuracy = 87.0045731707317 % \n",
            "\n",
            "Val Loss = 0.922\n",
            "Val Accuracy = 69.230775 % \n",
            "\n",
            "save model for epoch : 10\n",
            "** Epoch 10 ** - Epoch Time 37\n",
            "Train Loss = 0.5025\n",
            "Train Accuracy = 89.10060975609755 % \n",
            "\n",
            "Val Loss = 0.9325\n",
            "Val Accuracy = 69.290875 % \n",
            "\n",
            "** Epoch 11 ** - Epoch Time 37\n",
            "Train Loss = 0.4475\n",
            "Train Accuracy = 90.39634146341463 % \n",
            "\n",
            "Val Loss = 0.906\n",
            "Val Accuracy = 66.947125 % \n",
            "\n",
            "save model for epoch : 12\n",
            "** Epoch 12 ** - Epoch Time 36\n",
            "Train Loss = 0.3881\n",
            "Train Accuracy = 92.26371951219512 % \n",
            "\n",
            "Val Loss = 0.821\n",
            "Val Accuracy = 71.9351 % \n",
            "\n",
            "** Epoch 13 ** - Epoch Time 37\n",
            "Train Loss = 0.3472\n",
            "Train Accuracy = 92.8734756097561 % \n",
            "\n",
            "Val Loss = 0.7771\n",
            "Val Accuracy = 68.8702 % \n",
            "\n",
            "save model for epoch : 14\n",
            "** Epoch 14 ** - Epoch Time 37\n",
            "Train Loss = 0.311\n",
            "Train Accuracy = 94.16920731707317 % \n",
            "\n",
            "Val Loss = 0.7688\n",
            "Val Accuracy = 75.0 % \n",
            "\n",
            "save model for epoch : 15\n",
            "** Epoch 15 ** - Epoch Time 37\n",
            "Train Loss = 0.2846\n",
            "Train Accuracy = 94.77896341463415 % \n",
            "\n",
            "Val Loss = 0.8056\n",
            "Val Accuracy = 75.84135 % \n",
            "\n",
            "** Epoch 16 ** - Epoch Time 37\n",
            "Train Loss = 0.2528\n",
            "Train Accuracy = 95.84603658536585 % \n",
            "\n",
            "Val Loss = 0.7675\n",
            "Val Accuracy = 73.137025 % \n",
            "\n",
            "Stop training because of perf decrease\n",
            "** Epoch 17 ** - Epoch Time 37\n",
            "Train Loss = 0.2219\n",
            "Train Accuracy = 96.95121951219512 % \n",
            "\n",
            "Val Loss = 0.7687\n",
            "Val Accuracy = 71.21395 % \n",
            "\n",
            "** Epoch 18 ** - Epoch Time 37\n",
            "Train Loss = 0.1955\n",
            "Train Accuracy = 97.52286585365853 % \n",
            "\n",
            "Val Loss = 0.8348\n",
            "Val Accuracy = 70.4928 % \n",
            "\n",
            "** Epoch 19 ** - Epoch Time 37\n",
            "Train Loss = 0.1907\n",
            "Train Accuracy = 97.02743902439025 % \n",
            "\n",
            "Val Loss = 0.8094\n",
            "Val Accuracy = 70.4327 % \n",
            "\n"
          ]
        }
      ]
    },
    {
      "cell_type": "markdown",
      "source": [
        "batch size 16: -> 0.74...\n",
        "batch size 32: -> 0.76\n",
        "\n",
        "\n",
        "moins bonne perf en changeant le drop out rate"
      ],
      "metadata": {
        "id": "4BZ_qJgtOi8Y"
      }
    },
    {
      "cell_type": "code",
      "source": [
        ""
      ],
      "metadata": {
        "id": "x7fXxBqiO1uw"
      },
      "execution_count": null,
      "outputs": []
    }
  ]
}