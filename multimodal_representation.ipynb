{
  "cells": [
    {
      "cell_type": "code",
      "execution_count": null,
      "metadata": {
        "id": "m8cybtQvh__X"
      },
      "outputs": [],
      "source": [
        "#imports\n",
        "import pandas as pd\n",
        "import numpy as np\n",
        "import seaborn as sns\n",
        "import matplotlib.pyplot as plt\n",
        "import torch\n"
      ]
    },
    {
      "cell_type": "code",
      "source": [
        "from google.colab import drive\n",
        "\n",
        "drive.mount('/content/gdrive')"
      ],
      "metadata": {
        "colab": {
          "base_uri": "https://localhost:8080/"
        },
        "id": "yc0t5p30iQb1",
        "outputId": "81d67bcf-324d-460a-e8e2-92f57d810961"
      },
      "execution_count": null,
      "outputs": [
        {
          "output_type": "stream",
          "name": "stdout",
          "text": [
            "Mounted at /content/gdrive\n"
          ]
        }
      ]
    },
    {
      "cell_type": "markdown",
      "source": [
        "## Load Extracted features\n",
        "\n"
      ],
      "metadata": {
        "id": "meR8LIHPB4ka"
      }
    },
    {
      "cell_type": "code",
      "source": [
        "text_features = pd.read_csv(\"/content/gdrive/MyDrive/Master Centrale/Projet/datasets/ft_bag_of_words.csv\").drop(columns=['Unnamed: 0'])"
      ],
      "metadata": {
        "id": "oDXyQARtiEvj"
      },
      "execution_count": null,
      "outputs": []
    },
    {
      "cell_type": "code",
      "source": [
        "img_features = pd.read_csv(\"/content/gdrive/MyDrive/Master Centrale/Projet/datasets/img_features.csv\").drop(columns=['Unnamed: 0'])"
      ],
      "metadata": {
        "id": "dkXhVcnIA-wP"
      },
      "execution_count": null,
      "outputs": []
    },
    {
      "cell_type": "code",
      "source": [
        "path_to_target =\"/content/gdrive/MyDrive/Master Centrale/Projet/datasets/target_reduced.txt\"\n",
        "labels = np.loadtxt(path_to_target, dtype=int)\n",
        "labels = torch.tensor(labels, dtype=torch.float)"
      ],
      "metadata": {
        "id": "Zxu5U1xiCIz6"
      },
      "execution_count": null,
      "outputs": []
    },
    {
      "cell_type": "code",
      "source": [
        "#reformat labels \n",
        "labels = [int(x.argmax()) for x in labels]"
      ],
      "metadata": {
        "id": "rKOgujdJD_or"
      },
      "execution_count": null,
      "outputs": []
    },
    {
      "cell_type": "code",
      "source": [
        "type(text_features)"
      ],
      "metadata": {
        "colab": {
          "base_uri": "https://localhost:8080/"
        },
        "id": "po1xh-mlE0dd",
        "outputId": "45528e78-9a6d-42dd-9f6c-270b8f40d8bb"
      },
      "execution_count": null,
      "outputs": [
        {
          "output_type": "execute_result",
          "data": {
            "text/plain": [
              "pandas.core.frame.DataFrame"
            ]
          },
          "metadata": {},
          "execution_count": 7
        }
      ]
    },
    {
      "cell_type": "code",
      "source": [
        "type(img_features)"
      ],
      "metadata": {
        "colab": {
          "base_uri": "https://localhost:8080/"
        },
        "id": "c8qN9wHRExTi",
        "outputId": "b0987bf6-1904-473e-c459-57c52b96e0ea"
      },
      "execution_count": null,
      "outputs": [
        {
          "output_type": "execute_result",
          "data": {
            "text/plain": [
              "pandas.core.frame.DataFrame"
            ]
          },
          "metadata": {},
          "execution_count": 8
        }
      ]
    },
    {
      "cell_type": "code",
      "source": [
        "type(labels)"
      ],
      "metadata": {
        "colab": {
          "base_uri": "https://localhost:8080/"
        },
        "id": "c04vzOOBD_bp",
        "outputId": "cd994732-486d-40a4-8828-630781ff2bdc"
      },
      "execution_count": null,
      "outputs": [
        {
          "output_type": "execute_result",
          "data": {
            "text/plain": [
              "list"
            ]
          },
          "metadata": {},
          "execution_count": 9
        }
      ]
    },
    {
      "cell_type": "markdown",
      "source": [
        "## train classifier with each modality"
      ],
      "metadata": {
        "id": "6WDwDM-8CBlr"
      }
    },
    {
      "cell_type": "code",
      "source": [
        "from sklearn.model_selection import train_test_split\n",
        "from sklearn.model_selection import cross_val_score\n",
        "from sklearn.model_selection import GridSearchCV\n",
        "from sklearn.ensemble import RandomForestClassifier\n",
        "from sklearn.metrics import accuracy_score"
      ],
      "metadata": {
        "id": "6-a6JGqaCHhx"
      },
      "execution_count": null,
      "outputs": []
    },
    {
      "cell_type": "markdown",
      "source": [
        "We first try to learn a model on each modality to evaluate the quality of each representation"
      ],
      "metadata": {
        "id": "SAk6eh_G7ycr"
      }
    },
    {
      "cell_type": "markdown",
      "source": [
        "### text modality"
      ],
      "metadata": {
        "id": "ahhAvne24HcQ"
      }
    },
    {
      "cell_type": "code",
      "source": [
        "x_train, x_test, y_train, y_test = train_test_split(text_features, labels, test_size=0.3, random_state=42)"
      ],
      "metadata": {
        "id": "mAMnYfhJCHfA"
      },
      "execution_count": null,
      "outputs": []
    },
    {
      "cell_type": "code",
      "source": [
        "rfc=RandomForestClassifier(random_state=42)"
      ],
      "metadata": {
        "id": "jIbJYVnrCHXb"
      },
      "execution_count": null,
      "outputs": []
    },
    {
      "cell_type": "code",
      "source": [
        "param_grid = { \n",
        "    'n_estimators': [200, 500],\n",
        "    'max_features': ['auto', 'sqrt', 'log2'],\n",
        "    'max_depth' : [4,5,6,7,8],\n",
        "    'criterion' :['gini', 'entropy']\n",
        "}\n",
        "CV_rfc = GridSearchCV(estimator=rfc, param_grid=param_grid, cv= 5)\n",
        "CV_rfc.fit(x_train, y_train)\n",
        "model = CV_rfc.best_estimator_\n",
        "CV_rfc.best_params_"
      ],
      "metadata": {
        "id": "eWe7s042CHTZ",
        "colab": {
          "base_uri": "https://localhost:8080/"
        },
        "outputId": "3ea34a2d-7253-4182-f32b-69f0b3a53118"
      },
      "execution_count": null,
      "outputs": [
        {
          "output_type": "execute_result",
          "data": {
            "text/plain": [
              "{'criterion': 'gini',\n",
              " 'max_depth': 6,\n",
              " 'max_features': 'auto',\n",
              " 'n_estimators': 500}"
            ]
          },
          "metadata": {},
          "execution_count": 13
        }
      ]
    },
    {
      "cell_type": "code",
      "source": [
        "print(\"Accuracy for Random Forest on CV data: \",accuracy_score(y_test,model.predict(x_test)))"
      ],
      "metadata": {
        "id": "_SJbTMaNCHQe",
        "colab": {
          "base_uri": "https://localhost:8080/"
        },
        "outputId": "e6ab6dab-dd3c-4505-c5d5-5559b4f1c390"
      },
      "execution_count": null,
      "outputs": [
        {
          "output_type": "stream",
          "name": "stdout",
          "text": [
            "Accuracy for Random Forest on CV data:  0.7239263803680982\n"
          ]
        }
      ]
    },
    {
      "cell_type": "markdown",
      "source": [
        "### image modality"
      ],
      "metadata": {
        "id": "ocdwY_gN4MOv"
      }
    },
    {
      "cell_type": "code",
      "source": [
        "x_train, x_test, y_train, y_test = train_test_split(img_features, labels, test_size=0.3, random_state=42)\n",
        "rfc=RandomForestClassifier(random_state=42)\n",
        "param_grid = { \n",
        "    'n_estimators': [200, 500],\n",
        "    'max_features': ['auto', 'sqrt', 'log2'],\n",
        "    'max_depth' : [4,5,6,7,8],\n",
        "    'criterion' :['gini', 'entropy']\n",
        "}\n",
        "CV_rfc = GridSearchCV(estimator=rfc, param_grid=param_grid, cv= 5)\n",
        "CV_rfc.fit(x_train, y_train)\n",
        "model = CV_rfc.best_estimator_\n",
        "CV_rfc.best_params_"
      ],
      "metadata": {
        "colab": {
          "base_uri": "https://localhost:8080/"
        },
        "id": "7dfuAOnb4OvW",
        "outputId": "292e4280-facd-4b03-d422-37911d373d37"
      },
      "execution_count": null,
      "outputs": [
        {
          "output_type": "execute_result",
          "data": {
            "text/plain": [
              "{'criterion': 'gini',\n",
              " 'max_depth': 8,\n",
              " 'max_features': 'log2',\n",
              " 'n_estimators': 500}"
            ]
          },
          "metadata": {},
          "execution_count": 15
        }
      ]
    },
    {
      "cell_type": "code",
      "source": [
        "print(\"Accuracy for Random Forest on CV data: \",accuracy_score(y_test,model.predict(x_test)))"
      ],
      "metadata": {
        "colab": {
          "base_uri": "https://localhost:8080/"
        },
        "id": "XPF81g1t4OqS",
        "outputId": "5c31dc66-f908-4f72-bed6-b38d8b6d5b44"
      },
      "execution_count": null,
      "outputs": [
        {
          "output_type": "stream",
          "name": "stdout",
          "text": [
            "Accuracy for Random Forest on CV data:  0.852760736196319\n"
          ]
        }
      ]
    },
    {
      "cell_type": "code",
      "source": [
        "img_features.shape"
      ],
      "metadata": {
        "colab": {
          "base_uri": "https://localhost:8080/"
        },
        "id": "N96ALWzB4Okx",
        "outputId": "8b4b524a-7f87-4a12-81b0-47ebc1116668"
      },
      "execution_count": null,
      "outputs": [
        {
          "output_type": "execute_result",
          "data": {
            "text/plain": [
              "(543, 524)"
            ]
          },
          "metadata": {},
          "execution_count": 17
        }
      ]
    },
    {
      "cell_type": "code",
      "execution_count": null,
      "metadata": {
        "id": "OS76YCzbh__e",
        "outputId": "89d1487d-7afb-427c-d68a-c2831d32ca34",
        "colab": {
          "base_uri": "https://localhost:8080/",
          "height": 173
        }
      },
      "outputs": [
        {
          "output_type": "execute_result",
          "data": {
            "text/plain": [
              "          0         1         2         3         4         5         6  \\\n",
              "0 -0.485781 -0.441445  2.413909 -0.457076  0.202982 -0.432629 -0.373863   \n",
              "\n",
              "          7         8         9  ...       514       515       516       517  \\\n",
              "0 -0.429223 -0.402408  0.100705  ... -0.253944  0.807847 -0.482212  3.855111   \n",
              "\n",
              "        518       519       520       521       522      523  \n",
              "0 -0.504401 -0.598332 -0.376437 -0.198483 -0.460056 -0.32694  \n",
              "\n",
              "[1 rows x 524 columns]"
            ],
            "text/html": [
              "\n",
              "  <div id=\"df-cf5e40bf-82ff-449b-a0bc-b02c046ac1a4\">\n",
              "    <div class=\"colab-df-container\">\n",
              "      <div>\n",
              "<style scoped>\n",
              "    .dataframe tbody tr th:only-of-type {\n",
              "        vertical-align: middle;\n",
              "    }\n",
              "\n",
              "    .dataframe tbody tr th {\n",
              "        vertical-align: top;\n",
              "    }\n",
              "\n",
              "    .dataframe thead th {\n",
              "        text-align: right;\n",
              "    }\n",
              "</style>\n",
              "<table border=\"1\" class=\"dataframe\">\n",
              "  <thead>\n",
              "    <tr style=\"text-align: right;\">\n",
              "      <th></th>\n",
              "      <th>0</th>\n",
              "      <th>1</th>\n",
              "      <th>2</th>\n",
              "      <th>3</th>\n",
              "      <th>4</th>\n",
              "      <th>5</th>\n",
              "      <th>6</th>\n",
              "      <th>7</th>\n",
              "      <th>8</th>\n",
              "      <th>9</th>\n",
              "      <th>...</th>\n",
              "      <th>514</th>\n",
              "      <th>515</th>\n",
              "      <th>516</th>\n",
              "      <th>517</th>\n",
              "      <th>518</th>\n",
              "      <th>519</th>\n",
              "      <th>520</th>\n",
              "      <th>521</th>\n",
              "      <th>522</th>\n",
              "      <th>523</th>\n",
              "    </tr>\n",
              "  </thead>\n",
              "  <tbody>\n",
              "    <tr>\n",
              "      <th>0</th>\n",
              "      <td>-0.485781</td>\n",
              "      <td>-0.441445</td>\n",
              "      <td>2.413909</td>\n",
              "      <td>-0.457076</td>\n",
              "      <td>0.202982</td>\n",
              "      <td>-0.432629</td>\n",
              "      <td>-0.373863</td>\n",
              "      <td>-0.429223</td>\n",
              "      <td>-0.402408</td>\n",
              "      <td>0.100705</td>\n",
              "      <td>...</td>\n",
              "      <td>-0.253944</td>\n",
              "      <td>0.807847</td>\n",
              "      <td>-0.482212</td>\n",
              "      <td>3.855111</td>\n",
              "      <td>-0.504401</td>\n",
              "      <td>-0.598332</td>\n",
              "      <td>-0.376437</td>\n",
              "      <td>-0.198483</td>\n",
              "      <td>-0.460056</td>\n",
              "      <td>-0.32694</td>\n",
              "    </tr>\n",
              "  </tbody>\n",
              "</table>\n",
              "<p>1 rows × 524 columns</p>\n",
              "</div>\n",
              "      <button class=\"colab-df-convert\" onclick=\"convertToInteractive('df-cf5e40bf-82ff-449b-a0bc-b02c046ac1a4')\"\n",
              "              title=\"Convert this dataframe to an interactive table.\"\n",
              "              style=\"display:none;\">\n",
              "        \n",
              "  <svg xmlns=\"http://www.w3.org/2000/svg\" height=\"24px\"viewBox=\"0 0 24 24\"\n",
              "       width=\"24px\">\n",
              "    <path d=\"M0 0h24v24H0V0z\" fill=\"none\"/>\n",
              "    <path d=\"M18.56 5.44l.94 2.06.94-2.06 2.06-.94-2.06-.94-.94-2.06-.94 2.06-2.06.94zm-11 1L8.5 8.5l.94-2.06 2.06-.94-2.06-.94L8.5 2.5l-.94 2.06-2.06.94zm10 10l.94 2.06.94-2.06 2.06-.94-2.06-.94-.94-2.06-.94 2.06-2.06.94z\"/><path d=\"M17.41 7.96l-1.37-1.37c-.4-.4-.92-.59-1.43-.59-.52 0-1.04.2-1.43.59L10.3 9.45l-7.72 7.72c-.78.78-.78 2.05 0 2.83L4 21.41c.39.39.9.59 1.41.59.51 0 1.02-.2 1.41-.59l7.78-7.78 2.81-2.81c.8-.78.8-2.07 0-2.86zM5.41 20L4 18.59l7.72-7.72 1.47 1.35L5.41 20z\"/>\n",
              "  </svg>\n",
              "      </button>\n",
              "      \n",
              "  <style>\n",
              "    .colab-df-container {\n",
              "      display:flex;\n",
              "      flex-wrap:wrap;\n",
              "      gap: 12px;\n",
              "    }\n",
              "\n",
              "    .colab-df-convert {\n",
              "      background-color: #E8F0FE;\n",
              "      border: none;\n",
              "      border-radius: 50%;\n",
              "      cursor: pointer;\n",
              "      display: none;\n",
              "      fill: #1967D2;\n",
              "      height: 32px;\n",
              "      padding: 0 0 0 0;\n",
              "      width: 32px;\n",
              "    }\n",
              "\n",
              "    .colab-df-convert:hover {\n",
              "      background-color: #E2EBFA;\n",
              "      box-shadow: 0px 1px 2px rgba(60, 64, 67, 0.3), 0px 1px 3px 1px rgba(60, 64, 67, 0.15);\n",
              "      fill: #174EA6;\n",
              "    }\n",
              "\n",
              "    [theme=dark] .colab-df-convert {\n",
              "      background-color: #3B4455;\n",
              "      fill: #D2E3FC;\n",
              "    }\n",
              "\n",
              "    [theme=dark] .colab-df-convert:hover {\n",
              "      background-color: #434B5C;\n",
              "      box-shadow: 0px 1px 3px 1px rgba(0, 0, 0, 0.15);\n",
              "      filter: drop-shadow(0px 1px 2px rgba(0, 0, 0, 0.3));\n",
              "      fill: #FFFFFF;\n",
              "    }\n",
              "  </style>\n",
              "\n",
              "      <script>\n",
              "        const buttonEl =\n",
              "          document.querySelector('#df-cf5e40bf-82ff-449b-a0bc-b02c046ac1a4 button.colab-df-convert');\n",
              "        buttonEl.style.display =\n",
              "          google.colab.kernel.accessAllowed ? 'block' : 'none';\n",
              "\n",
              "        async function convertToInteractive(key) {\n",
              "          const element = document.querySelector('#df-cf5e40bf-82ff-449b-a0bc-b02c046ac1a4');\n",
              "          const dataTable =\n",
              "            await google.colab.kernel.invokeFunction('convertToInteractive',\n",
              "                                                     [key], {});\n",
              "          if (!dataTable) return;\n",
              "\n",
              "          const docLinkHtml = 'Like what you see? Visit the ' +\n",
              "            '<a target=\"_blank\" href=https://colab.research.google.com/notebooks/data_table.ipynb>data table notebook</a>'\n",
              "            + ' to learn more about interactive tables.';\n",
              "          element.innerHTML = '';\n",
              "          dataTable['output_type'] = 'display_data';\n",
              "          await google.colab.output.renderOutput(dataTable, element);\n",
              "          const docLink = document.createElement('div');\n",
              "          docLink.innerHTML = docLinkHtml;\n",
              "          element.appendChild(docLink);\n",
              "        }\n",
              "      </script>\n",
              "    </div>\n",
              "  </div>\n",
              "  "
            ]
          },
          "metadata": {},
          "execution_count": 18
        }
      ],
      "source": [
        "##select the two representations \n",
        "\n",
        "X = img_features.copy()\n",
        "X_mc = (X-X.mean())/(X.std())\n",
        "X_mc.head(1)"
      ]
    },
    {
      "cell_type": "code",
      "execution_count": null,
      "metadata": {
        "id": "s1B-wwHsh__e",
        "outputId": "0beb101f-247c-4082-93f4-b7c69895cd1d",
        "colab": {
          "base_uri": "https://localhost:8080/",
          "height": 173
        }
      },
      "outputs": [
        {
          "output_type": "execute_result",
          "data": {
            "text/plain": [
              "          0         1         2         3         4         5         6  \\\n",
              "0  0.892493  2.515187 -0.156471 -1.711123 -0.104554 -1.398269 -0.159332   \n",
              "\n",
              "          7         8         9  ...        86       87       88        89  \\\n",
              "0 -2.180029 -0.311113 -0.147583  ... -0.200389 -0.27406 -1.09069 -1.422873   \n",
              "\n",
              "         90        91        92        93        94        95  \n",
              "0 -0.371631 -0.371631 -0.425003 -1.964124 -1.167362 -0.252176  \n",
              "\n",
              "[1 rows x 96 columns]"
            ],
            "text/html": [
              "\n",
              "  <div id=\"df-7e0c7223-3e33-43c1-8567-0dcd4fa6a30d\">\n",
              "    <div class=\"colab-df-container\">\n",
              "      <div>\n",
              "<style scoped>\n",
              "    .dataframe tbody tr th:only-of-type {\n",
              "        vertical-align: middle;\n",
              "    }\n",
              "\n",
              "    .dataframe tbody tr th {\n",
              "        vertical-align: top;\n",
              "    }\n",
              "\n",
              "    .dataframe thead th {\n",
              "        text-align: right;\n",
              "    }\n",
              "</style>\n",
              "<table border=\"1\" class=\"dataframe\">\n",
              "  <thead>\n",
              "    <tr style=\"text-align: right;\">\n",
              "      <th></th>\n",
              "      <th>0</th>\n",
              "      <th>1</th>\n",
              "      <th>2</th>\n",
              "      <th>3</th>\n",
              "      <th>4</th>\n",
              "      <th>5</th>\n",
              "      <th>6</th>\n",
              "      <th>7</th>\n",
              "      <th>8</th>\n",
              "      <th>9</th>\n",
              "      <th>...</th>\n",
              "      <th>86</th>\n",
              "      <th>87</th>\n",
              "      <th>88</th>\n",
              "      <th>89</th>\n",
              "      <th>90</th>\n",
              "      <th>91</th>\n",
              "      <th>92</th>\n",
              "      <th>93</th>\n",
              "      <th>94</th>\n",
              "      <th>95</th>\n",
              "    </tr>\n",
              "  </thead>\n",
              "  <tbody>\n",
              "    <tr>\n",
              "      <th>0</th>\n",
              "      <td>0.892493</td>\n",
              "      <td>2.515187</td>\n",
              "      <td>-0.156471</td>\n",
              "      <td>-1.711123</td>\n",
              "      <td>-0.104554</td>\n",
              "      <td>-1.398269</td>\n",
              "      <td>-0.159332</td>\n",
              "      <td>-2.180029</td>\n",
              "      <td>-0.311113</td>\n",
              "      <td>-0.147583</td>\n",
              "      <td>...</td>\n",
              "      <td>-0.200389</td>\n",
              "      <td>-0.27406</td>\n",
              "      <td>-1.09069</td>\n",
              "      <td>-1.422873</td>\n",
              "      <td>-0.371631</td>\n",
              "      <td>-0.371631</td>\n",
              "      <td>-0.425003</td>\n",
              "      <td>-1.964124</td>\n",
              "      <td>-1.167362</td>\n",
              "      <td>-0.252176</td>\n",
              "    </tr>\n",
              "  </tbody>\n",
              "</table>\n",
              "<p>1 rows × 96 columns</p>\n",
              "</div>\n",
              "      <button class=\"colab-df-convert\" onclick=\"convertToInteractive('df-7e0c7223-3e33-43c1-8567-0dcd4fa6a30d')\"\n",
              "              title=\"Convert this dataframe to an interactive table.\"\n",
              "              style=\"display:none;\">\n",
              "        \n",
              "  <svg xmlns=\"http://www.w3.org/2000/svg\" height=\"24px\"viewBox=\"0 0 24 24\"\n",
              "       width=\"24px\">\n",
              "    <path d=\"M0 0h24v24H0V0z\" fill=\"none\"/>\n",
              "    <path d=\"M18.56 5.44l.94 2.06.94-2.06 2.06-.94-2.06-.94-.94-2.06-.94 2.06-2.06.94zm-11 1L8.5 8.5l.94-2.06 2.06-.94-2.06-.94L8.5 2.5l-.94 2.06-2.06.94zm10 10l.94 2.06.94-2.06 2.06-.94-2.06-.94-.94-2.06-.94 2.06-2.06.94z\"/><path d=\"M17.41 7.96l-1.37-1.37c-.4-.4-.92-.59-1.43-.59-.52 0-1.04.2-1.43.59L10.3 9.45l-7.72 7.72c-.78.78-.78 2.05 0 2.83L4 21.41c.39.39.9.59 1.41.59.51 0 1.02-.2 1.41-.59l7.78-7.78 2.81-2.81c.8-.78.8-2.07 0-2.86zM5.41 20L4 18.59l7.72-7.72 1.47 1.35L5.41 20z\"/>\n",
              "  </svg>\n",
              "      </button>\n",
              "      \n",
              "  <style>\n",
              "    .colab-df-container {\n",
              "      display:flex;\n",
              "      flex-wrap:wrap;\n",
              "      gap: 12px;\n",
              "    }\n",
              "\n",
              "    .colab-df-convert {\n",
              "      background-color: #E8F0FE;\n",
              "      border: none;\n",
              "      border-radius: 50%;\n",
              "      cursor: pointer;\n",
              "      display: none;\n",
              "      fill: #1967D2;\n",
              "      height: 32px;\n",
              "      padding: 0 0 0 0;\n",
              "      width: 32px;\n",
              "    }\n",
              "\n",
              "    .colab-df-convert:hover {\n",
              "      background-color: #E2EBFA;\n",
              "      box-shadow: 0px 1px 2px rgba(60, 64, 67, 0.3), 0px 1px 3px 1px rgba(60, 64, 67, 0.15);\n",
              "      fill: #174EA6;\n",
              "    }\n",
              "\n",
              "    [theme=dark] .colab-df-convert {\n",
              "      background-color: #3B4455;\n",
              "      fill: #D2E3FC;\n",
              "    }\n",
              "\n",
              "    [theme=dark] .colab-df-convert:hover {\n",
              "      background-color: #434B5C;\n",
              "      box-shadow: 0px 1px 3px 1px rgba(0, 0, 0, 0.15);\n",
              "      filter: drop-shadow(0px 1px 2px rgba(0, 0, 0, 0.3));\n",
              "      fill: #FFFFFF;\n",
              "    }\n",
              "  </style>\n",
              "\n",
              "      <script>\n",
              "        const buttonEl =\n",
              "          document.querySelector('#df-7e0c7223-3e33-43c1-8567-0dcd4fa6a30d button.colab-df-convert');\n",
              "        buttonEl.style.display =\n",
              "          google.colab.kernel.accessAllowed ? 'block' : 'none';\n",
              "\n",
              "        async function convertToInteractive(key) {\n",
              "          const element = document.querySelector('#df-7e0c7223-3e33-43c1-8567-0dcd4fa6a30d');\n",
              "          const dataTable =\n",
              "            await google.colab.kernel.invokeFunction('convertToInteractive',\n",
              "                                                     [key], {});\n",
              "          if (!dataTable) return;\n",
              "\n",
              "          const docLinkHtml = 'Like what you see? Visit the ' +\n",
              "            '<a target=\"_blank\" href=https://colab.research.google.com/notebooks/data_table.ipynb>data table notebook</a>'\n",
              "            + ' to learn more about interactive tables.';\n",
              "          element.innerHTML = '';\n",
              "          dataTable['output_type'] = 'display_data';\n",
              "          await google.colab.output.renderOutput(dataTable, element);\n",
              "          const docLink = document.createElement('div');\n",
              "          docLink.innerHTML = docLinkHtml;\n",
              "          element.appendChild(docLink);\n",
              "        }\n",
              "      </script>\n",
              "    </div>\n",
              "  </div>\n",
              "  "
            ]
          },
          "metadata": {},
          "execution_count": 19
        }
      ],
      "source": [
        "##select the two representations \n",
        "\n",
        "Y = text_features.copy()\n",
        "Y_mc = (Y-Y.mean())/(Y.std())\n",
        "Y_mc.head(1)"
      ]
    },
    {
      "cell_type": "code",
      "source": [
        "## if std ==0 value become nan, but it's the case for all the column we can drop it \n",
        "Y_mc = Y_mc.dropna(axis=1)\n",
        "X_mc = X_mc.dropna(axis=1)"
      ],
      "metadata": {
        "id": "qVAqdxL2_kb3"
      },
      "execution_count": null,
      "outputs": []
    },
    {
      "cell_type": "markdown",
      "metadata": {
        "id": "MPtXxs2vh__f"
      },
      "source": [
        "# Canonical Correlation Analysis with Scikit-learn"
      ]
    },
    {
      "cell_type": "code",
      "execution_count": null,
      "metadata": {
        "id": "XP3BPtQAh__g"
      },
      "outputs": [],
      "source": [
        "from sklearn.cross_decomposition import CCA"
      ]
    },
    {
      "cell_type": "code",
      "execution_count": null,
      "metadata": {
        "id": "WmEQxY8Yh__g"
      },
      "outputs": [],
      "source": [
        "nb_component_to_keep = min(len(X_mc.columns),len(Y_mc.columns))"
      ]
    },
    {
      "cell_type": "code",
      "execution_count": null,
      "metadata": {
        "id": "U_wjkhJLh__h",
        "colab": {
          "base_uri": "https://localhost:8080/"
        },
        "outputId": "afe063d1-4b94-48e4-ff0a-48a95a63abe4"
      },
      "outputs": [
        {
          "output_type": "stream",
          "name": "stderr",
          "text": [
            "/usr/local/lib/python3.7/dist-packages/sklearn/cross_decomposition/_pls.py:107: ConvergenceWarning: Maximum number of iterations reached\n",
            "  warnings.warn(\"Maximum number of iterations reached\", ConvergenceWarning)\n"
          ]
        }
      ],
      "source": [
        "ca = CCA(n_components=82)\n",
        "ca.fit(X_mc, Y_mc)\n",
        "X_c, Y_c = ca.transform(X_mc, Y_mc)\n",
        "\n",
        "#Y residual is constant at iteration 82"
      ]
    },
    {
      "cell_type": "code",
      "execution_count": null,
      "metadata": {
        "id": "-2gqwKXqh__h",
        "outputId": "bc09b31c-6243-452a-a2e9-cc29d1ebbdd8",
        "colab": {
          "base_uri": "https://localhost:8080/"
        }
      },
      "outputs": [
        {
          "output_type": "execute_result",
          "data": {
            "text/plain": [
              "array([[1.        , 0.99993901],\n",
              "       [0.99993901, 1.        ]])"
            ]
          },
          "metadata": {},
          "execution_count": 24
        }
      ],
      "source": [
        "import numpy as np\n",
        "np.corrcoef(X_c[:, 7], Y_c[:, 7])\n"
      ]
    },
    {
      "cell_type": "code",
      "execution_count": null,
      "metadata": {
        "id": "Cohe85Gzh__j"
      },
      "outputs": [],
      "source": [
        "#save CCA results in dataframes\n",
        "df_X_c = pd.DataFrame(X_c, columns = [f'X_{i}' for i in range(len(X_c[0]))])\n",
        "df_Y_c = pd.DataFrame(Y_c, columns = [f'Y_{i}' for i in range(len(Y_c[0]))])"
      ]
    },
    {
      "cell_type": "code",
      "execution_count": null,
      "metadata": {
        "id": "cje9xta3h__j"
      },
      "outputs": [],
      "source": [
        "##concat results in a df "
      ]
    },
    {
      "cell_type": "code",
      "execution_count": null,
      "metadata": {
        "id": "3T2az0Wwh__k"
      },
      "outputs": [],
      "source": [
        "#df_cca = pd.concat([df_cca, df_X_c], axis=1)\n",
        "df_cca = pd.concat([df_X_c, df_Y_c], axis=1)"
      ]
    },
    {
      "cell_type": "code",
      "execution_count": null,
      "metadata": {
        "id": "XZuqQnGzh__k",
        "outputId": "5f585d68-efee-4f5f-964b-407085d44bd5",
        "colab": {
          "base_uri": "https://localhost:8080/"
        }
      },
      "outputs": [
        {
          "output_type": "execute_result",
          "data": {
            "text/plain": [
              "Index(['X_0', 'X_1', 'X_2', 'X_3', 'X_4', 'X_5', 'X_6', 'X_7', 'X_8', 'X_9',\n",
              "       ...\n",
              "       'Y_72', 'Y_73', 'Y_74', 'Y_75', 'Y_76', 'Y_77', 'Y_78', 'Y_79', 'Y_80',\n",
              "       'Y_81'],\n",
              "      dtype='object', length=164)"
            ]
          },
          "metadata": {},
          "execution_count": 28
        }
      ],
      "source": [
        "df_cca.columns"
      ]
    },
    {
      "cell_type": "markdown",
      "source": [
        "We can now plot an instance of the new features of the dataset, the new features have been compute in by maximizing the correlation that's why it appear as a line"
      ],
      "metadata": {
        "id": "FszSQmwc8Jic"
      }
    },
    {
      "cell_type": "code",
      "execution_count": null,
      "metadata": {
        "id": "cFdHmvJgh__k",
        "outputId": "cc1a292d-666f-4d8a-fe46-e9b41da2401d",
        "colab": {
          "base_uri": "https://localhost:8080/",
          "height": 544
        }
      },
      "outputs": [
        {
          "output_type": "display_data",
          "data": {
            "text/plain": [
              "<Figure size 720x576 with 1 Axes>"
            ],
            "image/png": "[encoded data removed]"
          },
          "metadata": {
            "needs_background": "light"
          }
        }
      ],
      "source": [
        "%matplotlib inline\n",
        "sns.set_context(\"talk\", font_scale=1.2)\n",
        "plt.figure(figsize=(10,8))\n",
        "sns.scatterplot(x=\"X_0\",\n",
        "                y=\"Y_0\", \n",
        "                data=df_cca)\n",
        "plt.title('Comp. 1, corr = %.2f' %\n",
        "         np.corrcoef(X_c[:, 20], Y_c[:, 20])[0, 1])\n",
        "\n",
        "plt.show()"
      ]
    },
    {
      "cell_type": "code",
      "execution_count": null,
      "metadata": {
        "id": "hwvfHO3oh__l"
      },
      "outputs": [],
      "source": [
        "#df_cca.to_csv(\"/Users/jeanloubet/Documents/Master_Centrale/Projet/datasets/datasets_after_cca.csv\")"
      ]
    },
    {
      "cell_type": "markdown",
      "source": [
        "## Train model on CCA"
      ],
      "metadata": {
        "id": "QMt5zDOgDhzU"
      }
    },
    {
      "cell_type": "code",
      "execution_count": null,
      "metadata": {
        "id": "Cxz8O9SJh__l",
        "colab": {
          "base_uri": "https://localhost:8080/"
        },
        "outputId": "c5e63ac2-ee5d-4685-b54a-a80be5f271a2"
      },
      "outputs": [
        {
          "output_type": "execute_result",
          "data": {
            "text/plain": [
              "{'criterion': 'entropy',\n",
              " 'max_depth': 5,\n",
              " 'max_features': 'log2',\n",
              " 'n_estimators': 500}"
            ]
          },
          "metadata": {},
          "execution_count": 31
        }
      ],
      "source": [
        "x_train, x_test, y_train, y_test = train_test_split(df_cca, labels, test_size=0.3, random_state=42)\n",
        "rfc=RandomForestClassifier(random_state=42)\n",
        "param_grid = { \n",
        "    'n_estimators': [200, 500],\n",
        "    'max_features': ['auto', 'sqrt', 'log2'],\n",
        "    'max_depth' : [4,5,6,7,8],\n",
        "    'criterion' :['gini', 'entropy']\n",
        "}\n",
        "CV_rfc = GridSearchCV(estimator=rfc, param_grid=param_grid, cv= 5)\n",
        "CV_rfc.fit(x_train, y_train)\n",
        "model = CV_rfc.best_estimator_\n",
        "CV_rfc.best_params_"
      ]
    },
    {
      "cell_type": "code",
      "source": [
        "print(\"Accuracy for Random Forest on CV data: \",accuracy_score(y_test,model.predict(x_test)))"
      ],
      "metadata": {
        "colab": {
          "base_uri": "https://localhost:8080/"
        },
        "id": "fHZSpJz2DvGS",
        "outputId": "b8f4629d-0b31-448b-a2bf-08c1ced63088"
      },
      "execution_count": null,
      "outputs": [
        {
          "output_type": "stream",
          "name": "stdout",
          "text": [
            "Accuracy for Random Forest on CV data:  0.558282208588957\n"
          ]
        }
      ]
    },
    {
      "cell_type": "code",
      "source": [
        "#### find best number of components\n",
        "for i in range(77,82): \n",
        "    columns_to_keep = [f'X_{i}' for i in range(i)]+[f'Y_{i}' for i in range(i)]\n",
        "    data_reduced = df_cca[columns_to_keep]\n",
        "\n",
        "    x_train, x_test, y_train, y_test = train_test_split(data_reduced, labels, test_size=0.3, random_state=42)\n",
        "    rfc=RandomForestClassifier(random_state=42)\n",
        "\n",
        "    param_grid = { \n",
        "        'n_estimators': [200, 500],\n",
        "        'max_features': ['auto', 'sqrt', 'log2'],\n",
        "        'max_depth' : [4,5,6,7,8],\n",
        "        'criterion' :['gini', 'entropy']\n",
        "    }\n",
        "    CV_rfc = GridSearchCV(estimator=rfc, param_grid=param_grid, cv= 5)\n",
        "    CV_rfc.fit(x_train, y_train)\n",
        "    model = CV_rfc.best_estimator_\n",
        "    CV_rfc.best_params_\n",
        "\n",
        "    print(f\"Accuracy for {i} components : \",accuracy_score(y_test,model.predict(x_test)))\n",
        "\n",
        "\"\"\"\n",
        "Accuracy for 1 components :  0.2085889570552147\n",
        "Accuracy for 2 components :  0.22699386503067484\n",
        "Accuracy for 3 components :  0.26993865030674846\n",
        "Accuracy for 4 components :  0.25153374233128833\n",
        "Accuracy for 5 components :  0.27607361963190186\n",
        "Accuracy for 6 components :  0.32515337423312884\n",
        "Accuracy for 7 components :  0.3374233128834356\n",
        "Accuracy for 8 components :  0.36809815950920244\n",
        "Accuracy for 9 components :  0.3496932515337423\n",
        "Accuracy for 10 components :  0.3803680981595092\n",
        "Accuracy for 11 components :  0.3374233128834356\n",
        "Accuracy for 12 components :  0.4171779141104294\n",
        "Accuracy for 13 components :  0.39263803680981596\n",
        "Accuracy for 14 components :  0.43558282208588955\n",
        "Accuracy for 15 components :  0.4601226993865031\n",
        "Accuracy for 16 components :  0.4294478527607362\n",
        "Accuracy for 17 components :  0.4110429447852761\n",
        "Accuracy for 18 components :  0.4294478527607362\n",
        "Accuracy for 19 components :  0.43558282208588955\n",
        "Accuracy for 20 components :  0.44171779141104295\n",
        "Accuracy for 21 components :  0.3803680981595092\n",
        "Accuracy for 22 components :  0.4294478527607362\n",
        "Accuracy for 23 components :  0.3987730061349693\n",
        "Accuracy for 24 components :  0.44171779141104295\n",
        "Accuracy for 25 components :  0.4539877300613497\n",
        "Accuracy for 26 components :  0.44171779141104295\n",
        "Accuracy for 27 components :  0.4723926380368098\n",
        "Accuracy for 28 components :  0.44171779141104295\n",
        "Accuracy for 29 components :  0.4785276073619632\n",
        "Accuracy for 30 components :  0.49079754601226994\n",
        "Accuracy for 31 components :  0.49693251533742333\n",
        "Accuracy for 32 components :  0.49079754601226994\n",
        "Accuracy for 33 components :  0.49693251533742333\n",
        "Accuracy for 34 components :  0.5276073619631901\n",
        "Accuracy for 35 components :  0.49079754601226994\n",
        "Accuracy for 36 components :  0.48466257668711654\n",
        "Accuracy for 37 components :  0.5153374233128835\n",
        "Accuracy for 38 components :  0.5030674846625767\n",
        "Accuracy for 39 components :  0.5030674846625767\n",
        "Accuracy for 40 components :  0.5276073619631901\n",
        "Accuracy for 41 components :  0.4662576687116564\n",
        "Accuracy for 42 components :  0.5276073619631901\n",
        "Accuracy for 43 components :  0.5276073619631901\n",
        "Accuracy for 44 components :  0.49693251533742333\n",
        "Accuracy for 45 components :  0.49693251533742333\n",
        "Accuracy for 46 components :  0.558282208588957\n",
        "Accuracy for 47 components :  0.5705521472392638\n",
        "Accuracy for 48 components :  0.5153374233128835\n",
        "Accuracy for 49 components :  0.50920245398773\n",
        "Accuracy for 50 components :  0.5214723926380368\n",
        "Accuracy for 51 components :  0.5214723926380368\n",
        "Accuracy for 52 components :  0.5276073619631901\n",
        "Accuracy for 53 components :  0.5644171779141104\n",
        "Accuracy for 54 components :  0.5276073619631901\n",
        "Accuracy for 55 components :  0.5398773006134969\n",
        "Accuracy for 56 components :  0.5521472392638037\n",
        "Accuracy for 57 components :  0.5337423312883436\n",
        "Accuracy for 58 components :  0.5460122699386503\n",
        "Accuracy for 59 components :  0.5644171779141104\n",
        "Accuracy for 60 components :  0.5766871165644172\n",
        "Accuracy for 61 components :  0.5398773006134969\n",
        "Accuracy for 62 components :  0.558282208588957\n",
        "Accuracy for 63 components :  0.5705521472392638\n",
        "Accuracy for 64 components :  0.5521472392638037\n",
        "Accuracy for 65 components :  0.5644171779141104\n",
        "Accuracy for 66 components :  0.5337423312883436\n",
        "Accuracy for 67 components :  0.5828220858895705\n",
        "Accuracy for 68 components :  0.5766871165644172\n",
        "Accuracy for 69 components :  0.6012269938650306\n",
        "Accuracy for 70 components :  0.5950920245398773\n",
        "Accuracy for 71 components :  0.5460122699386503\n",
        "Accuracy for 72 components :  0.5705521472392638\n",
        "Accuracy for 73 components :  0.6073619631901841\n",
        "Accuracy for 74 components :  0.5398773006134969\n",
        "Accuracy for 75 components :  0.5460122699386503\n",
        "Accuracy for 76 components :  0.6196319018404908\n",
        "Accuracy for 77 components :  0.5521472392638037\n",
        "Accuracy for 78 components :  0.558282208588957\n",
        "Accuracy for 79 components :  0.5950920245398773\n",
        "Accuracy for 80 components :  0.5950920245398773\n",
        "Accuracy for 81 components :  0.5644171779141104\n",
        "\"\"\""
      ],
      "metadata": {
        "colab": {
          "base_uri": "https://localhost:8080/",
          "height": 225
        },
        "id": "j8Op25TIyghu",
        "outputId": "4f5fb3b0-d7d3-4c42-995e-199eca863894"
      },
      "execution_count": null,
      "outputs": [
        {
          "output_type": "stream",
          "name": "stdout",
          "text": [
            "Accuracy for 77 components :  0.5521472392638037\n",
            "Accuracy for 78 components :  0.558282208588957\n",
            "Accuracy for 79 components :  0.5950920245398773\n",
            "Accuracy for 80 components :  0.5950920245398773\n",
            "Accuracy for 81 components :  0.5644171779141104\n"
          ]
        },
        {
          "output_type": "execute_result",
          "data": {
            "text/plain": [
              "'\\nAccuracy for 1 components :  0.2085889570552147\\nAccuracy for 2 components :  0.22699386503067484\\nAccuracy for 3 components :  0.26993865030674846\\nAccuracy for 4 components :  0.25153374233128833\\nAccuracy for 5 components :  0.27607361963190186\\nAccuracy for 6 components :  0.32515337423312884\\nAccuracy for 7 components :  0.3374233128834356\\nAccuracy for 8 components :  0.36809815950920244\\nAccuracy for 9 components :  0.3496932515337423\\nAccuracy for 10 components :  0.3803680981595092\\nAccuracy for 11 components :  0.3374233128834356\\nAccuracy for 12 components :  0.4171779141104294\\nAccuracy for 13 components :  0.39263803680981596\\nAccuracy for 14 components :  0.43558282208588955\\nAccuracy for 15 components :  0.4601226993865031\\nAccuracy for 16 components :  0.4294478527607362\\nAccuracy for 17 components :  0.4110429447852761\\nAccuracy for 18 components :  0.4294478527607362\\nAccuracy for 19 components :  0.43558282208588955\\nAccuracy for 20 components :  0.44171779141104295\\nAccuracy for 21 components :  0.3803680981595092\\nAccuracy for 22 components :  0.4294478527607362\\nAccuracy for 23 components :  0.3987730061349693\\nAccuracy for 24 components :  0.44171779141104295\\nAccuracy for 25 components :  0.4539877300613497\\nAccuracy for 26 components :  0.44171779141104295\\nAccuracy for 27 components :  0.4723926380368098\\nAccuracy for 28 components :  0.44171779141104295\\nAccuracy for 29 components :  0.4785276073619632\\nAccuracy for 30 components :  0.49079754601226994\\nAccuracy for 31 components :  0.49693251533742333\\nAccuracy for 32 components :  0.49079754601226994\\nAccuracy for 33 components :  0.49693251533742333\\nAccuracy for 34 components :  0.5276073619631901\\nAccuracy for 35 components :  0.49079754601226994\\nAccuracy for 36 components :  0.48466257668711654\\nAccuracy for 37 components :  0.5153374233128835\\nAccuracy for 38 components :  0.5030674846625767\\nAccuracy for 39 components :  0.5030674846625767\\nAccuracy for 40 components :  0.5276073619631901\\nAccuracy for 41 components :  0.4662576687116564\\nAccuracy for 42 components :  0.5276073619631901\\nAccuracy for 43 components :  0.5276073619631901\\nAccuracy for 44 components :  0.49693251533742333\\nAccuracy for 45 components :  0.49693251533742333\\nAccuracy for 46 components :  0.558282208588957\\nAccuracy for 47 components :  0.5705521472392638\\nAccuracy for 48 components :  0.5153374233128835\\nAccuracy for 49 components :  0.50920245398773\\nAccuracy for 50 components :  0.5214723926380368\\nAccuracy for 51 components :  0.5214723926380368\\nAccuracy for 52 components :  0.5276073619631901\\nAccuracy for 53 components :  0.5644171779141104\\nAccuracy for 54 components :  0.5276073619631901\\nAccuracy for 55 components :  0.5398773006134969\\nAccuracy for 56 components :  0.5521472392638037\\nAccuracy for 57 components :  0.5337423312883436\\nAccuracy for 58 components :  0.5460122699386503\\nAccuracy for 59 components :  0.5644171779141104\\nAccuracy for 60 components :  0.5766871165644172\\nAccuracy for 61 components :  0.5398773006134969\\nAccuracy for 62 components :  0.558282208588957\\nAccuracy for 63 components :  0.5705521472392638\\nAccuracy for 64 components :  0.5521472392638037\\nAccuracy for 65 components :  0.5644171779141104\\nAccuracy for 66 components :  0.5337423312883436\\nAccuracy for 67 components :  0.5828220858895705\\nAccuracy for 68 components :  0.5766871165644172\\nAccuracy for 69 components :  0.6012269938650306\\nAccuracy for 70 components :  0.5950920245398773\\nAccuracy for 71 components :  0.5460122699386503\\nAccuracy for 72 components :  0.5705521472392638\\nAccuracy for 73 components :  0.6073619631901841\\nAccuracy for 74 components :  0.5398773006134969\\nAccuracy for 75 components :  0.5460122699386503\\nAccuracy for 76 components :  0.6196319018404908\\n'"
            ],
            "application/vnd.google.colaboratory.intrinsic+json": {
              "type": "string"
            }
          },
          "metadata": {},
          "execution_count": 33
        }
      ]
    },
    {
      "cell_type": "markdown",
      "source": [
        "The best result is obtained with 76 components we then obtain a score of 0.61. The score is really low and lower than when using each modality separately. It seems that the CCA lost a lot of information when applying its transformation.\n",
        "\n"
      ],
      "metadata": {
        "id": "iBsk-o8N8dF5"
      }
    },
    {
      "cell_type": "markdown",
      "source": [
        "## Try with both features without cca"
      ],
      "metadata": {
        "id": "-sxWXwhlF_6k"
      }
    },
    {
      "cell_type": "code",
      "source": [
        "#df_both = pd.concat([text_features, img_features], axis=1)\n",
        "df_both = pd.concat([Y_mc, X_mc], axis=1)"
      ],
      "metadata": {
        "id": "1rrmvhADF_io"
      },
      "execution_count": null,
      "outputs": []
    },
    {
      "cell_type": "code",
      "source": [
        "x_train, x_test, y_train, y_test = train_test_split(df_both, labels, test_size=0.3, random_state=42)\n",
        "rfc=RandomForestClassifier(random_state=42)\n",
        "param_grid = { \n",
        "    'n_estimators': [200, 500],\n",
        "    'max_features': ['auto', 'sqrt', 'log2'],\n",
        "    'max_depth' : [4,5,6,7,8],\n",
        "    'criterion' :['gini', 'entropy']\n",
        "}\n",
        "CV_rfc = GridSearchCV(estimator=rfc, param_grid=param_grid, cv= 5)\n",
        "CV_rfc.fit(x_train, y_train)\n",
        "model = CV_rfc.best_estimator_\n",
        "CV_rfc.best_params_"
      ],
      "metadata": {
        "id": "5T1nQ6OQDz8I",
        "colab": {
          "base_uri": "https://localhost:8080/"
        },
        "outputId": "22a63266-021e-41c5-b95c-1c96059228da"
      },
      "execution_count": null,
      "outputs": [
        {
          "output_type": "execute_result",
          "data": {
            "text/plain": [
              "{'criterion': 'gini',\n",
              " 'max_depth': 8,\n",
              " 'max_features': 'log2',\n",
              " 'n_estimators': 500}"
            ]
          },
          "metadata": {},
          "execution_count": 35
        }
      ]
    },
    {
      "cell_type": "code",
      "source": [
        "print(\"Accuracy for Random Forest on CV data: \",accuracy_score(y_test,model.predict(x_test)))"
      ],
      "metadata": {
        "id": "F-kJ5qFBG6ux",
        "colab": {
          "base_uri": "https://localhost:8080/"
        },
        "outputId": "3e174f7d-1ffd-4e06-e8d9-4e19447f431f"
      },
      "execution_count": null,
      "outputs": [
        {
          "output_type": "stream",
          "name": "stdout",
          "text": [
            "Accuracy for Random Forest on CV data:  0.9079754601226994\n"
          ]
        }
      ]
    },
    {
      "cell_type": "markdown",
      "source": [
        "Just by concatzenating the modalities we obtain a much better score"
      ],
      "metadata": {
        "id": "DSRL1s0l9IM-"
      }
    },
    {
      "cell_type": "markdown",
      "source": [
        "## Try PCA"
      ],
      "metadata": {
        "id": "GAbuLds7G7OE"
      }
    },
    {
      "cell_type": "code",
      "source": [
        "from sklearn.decomposition import PCA\n",
        "pca = PCA(n_components=50)\n",
        "principalComponents = pca.fit_transform(df_both)\n",
        "principalDf = pd.DataFrame(data = principalComponents)"
      ],
      "metadata": {
        "id": "8T3zh70aG8Qi"
      },
      "execution_count": null,
      "outputs": []
    },
    {
      "cell_type": "code",
      "source": [
        "x_train, x_test, y_train, y_test = train_test_split(principalDf, labels, test_size=0.3, random_state=42)\n",
        "rfc=RandomForestClassifier(random_state=42)\n",
        "param_grid = { \n",
        "    'n_estimators': [200, 500],\n",
        "    'max_features': ['auto', 'sqrt', 'log2'],\n",
        "    'max_depth' : [4,5,6,7,8],\n",
        "    'criterion' :['gini', 'entropy']\n",
        "}\n",
        "CV_rfc = GridSearchCV(estimator=rfc, param_grid=param_grid, cv= 5)\n",
        "CV_rfc.fit(x_train, y_train)\n",
        "model = CV_rfc.best_estimator_\n",
        "CV_rfc.best_params_"
      ],
      "metadata": {
        "id": "N0mp4CBqOEZw",
        "colab": {
          "base_uri": "https://localhost:8080/"
        },
        "outputId": "1b3ee81f-4d57-4ca9-9315-1c617d1619ab"
      },
      "execution_count": null,
      "outputs": [
        {
          "output_type": "execute_result",
          "data": {
            "text/plain": [
              "{'criterion': 'gini',\n",
              " 'max_depth': 7,\n",
              " 'max_features': 'auto',\n",
              " 'n_estimators': 500}"
            ]
          },
          "metadata": {},
          "execution_count": 38
        }
      ]
    },
    {
      "cell_type": "code",
      "source": [
        "print(\"Accuracy for Random Forest on CV data: \",accuracy_score(y_test,model.predict(x_test)))"
      ],
      "metadata": {
        "id": "QDybeSlmOWFb",
        "colab": {
          "base_uri": "https://localhost:8080/"
        },
        "outputId": "4d4e1973-5653-46c1-8459-c24b53851afa"
      },
      "execution_count": null,
      "outputs": [
        {
          "output_type": "stream",
          "name": "stdout",
          "text": [
            "Accuracy for Random Forest on CV data:  0.9079754601226994\n"
          ]
        }
      ]
    },
    {
      "cell_type": "code",
      "source": [
        "for nb_compo in [10,20,30,40,50,60,70,80,90,100]:\n",
        "    print(f\"NB COMPONENTS= {nb_compo}\")\n",
        "    pca = PCA(n_components=nb_compo)\n",
        "    principalComponents = pca.fit_transform(df_both)\n",
        "    principalDf = pd.DataFrame(data = principalComponents)\n",
        "    x_train, x_test, y_train, y_test = train_test_split(principalDf, labels, test_size=0.3, random_state=42)\n",
        "    rfc=RandomForestClassifier(random_state=42)\n",
        "    param_grid = { \n",
        "        'n_estimators': [200, 500],\n",
        "        'max_features': ['auto', 'sqrt', 'log2'],\n",
        "        'max_depth' : [4,5,6,7,8],\n",
        "        'criterion' :['gini', 'entropy']\n",
        "    }\n",
        "    CV_rfc = GridSearchCV(estimator=rfc, param_grid=param_grid, cv= 5)\n",
        "    CV_rfc.fit(x_train, y_train)\n",
        "    model = CV_rfc.best_estimator_\n",
        "    CV_rfc.best_params_\n",
        "    print(\"Accuracy for Random Forest on CV data: \",accuracy_score(y_test,model.predict(x_test)))\n"
      ],
      "metadata": {
        "id": "A5CGxAJpOgMd",
        "colab": {
          "base_uri": "https://localhost:8080/"
        },
        "outputId": "b6032e3d-4b03-4fc1-d2c5-aed644336f74"
      },
      "execution_count": null,
      "outputs": [
        {
          "output_type": "stream",
          "name": "stdout",
          "text": [
            "NB COMPONENTS= 10\n",
            "Accuracy for Random Forest on CV data:  0.8834355828220859\n",
            "NB COMPONENTS= 20\n",
            "Accuracy for Random Forest on CV data:  0.9079754601226994\n",
            "NB COMPONENTS= 30\n",
            "Accuracy for Random Forest on CV data:  0.9141104294478528\n",
            "NB COMPONENTS= 40\n",
            "Accuracy for Random Forest on CV data:  0.9079754601226994\n",
            "NB COMPONENTS= 50\n",
            "Accuracy for Random Forest on CV data:  0.9141104294478528\n",
            "NB COMPONENTS= 60\n",
            "Accuracy for Random Forest on CV data:  0.901840490797546\n",
            "NB COMPONENTS= 70\n",
            "Accuracy for Random Forest on CV data:  0.901840490797546\n",
            "NB COMPONENTS= 80\n",
            "Accuracy for Random Forest on CV data:  0.901840490797546\n",
            "NB COMPONENTS= 90\n",
            "Accuracy for Random Forest on CV data:  0.9202453987730062\n",
            "NB COMPONENTS= 100\n",
            "Accuracy for Random Forest on CV data:  0.8895705521472392\n"
          ]
        }
      ]
    },
    {
      "cell_type": "markdown",
      "source": [
        "Finally applying a PCA improve our performances, 0.92 seems to be enough to apply our causality method"
      ],
      "metadata": {
        "id": "KOKCAYXu9XR-"
      }
    },
    {
      "cell_type": "code",
      "source": [
        ""
      ],
      "metadata": {
        "id": "dv7cYHHXQgQ7"
      },
      "execution_count": null,
      "outputs": []
    }
  ],
  "metadata": {
    "interpreter": {
      "hash": "5a54157199fb56b355e13713d2f1231a836ebfa3d96f3c2be5d9a577a2b6d10e"
    },
    "kernelspec": {
      "display_name": "Python 3 (ipykernel)",
      "language": "python",
      "name": "python3"
    },
    "language_info": {
      "codemirror_mode": {
        "name": "ipython",
        "version": 3
      },
      "file_extension": ".py",
      "mimetype": "text/x-python",
      "name": "python",
      "nbconvert_exporter": "python",
      "pygments_lexer": "ipython3",
      "version": "3.9.7"
    },
    "colab": {
      "name": "multimodal_representation.ipynb",
      "provenance": [],
      "collapsed_sections": []
    }
  },
  "nbformat": 4,
  "nbformat_minor": 0
}